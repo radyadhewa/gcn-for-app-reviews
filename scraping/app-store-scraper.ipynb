{
 "cells": [
  {
   "cell_type": "markdown",
   "metadata": {},
   "source": [
    "# Initiate Library"
   ]
  },
  {
   "cell_type": "code",
   "execution_count": 3,
   "metadata": {},
   "outputs": [],
   "source": [
    "import pandas as pd\n",
    "import numpy as np\n",
    "import json\n",
    "\n",
    "from app_store_scraper import AppStore\n",
    "from pprint import pprint"
   ]
  },
  {
   "cell_type": "markdown",
   "metadata": {},
   "source": [
    "# Scrap Data"
   ]
  },
  {
   "cell_type": "markdown",
   "metadata": {},
   "source": [
    "## Amma App"
   ]
  },
  {
   "cell_type": "code",
   "execution_count": 8,
   "metadata": {},
   "outputs": [
    {
     "name": "stderr",
     "output_type": "stream",
     "text": [
      "2025-02-10 15:02:20,857 [INFO] Base - Initialised: AppStore('id', 'amma-pregnancy-baby-tracker', 990178211)\n",
      "2025-02-10 15:02:20,857 [INFO] Base - Ready to fetch reviews from: https://apps.apple.com/id/app/amma-pregnancy-baby-tracker/id990178211\n",
      "2025-02-10 15:02:21,696 [INFO] Base - [id:990178211] Fetched 2 reviews (2 fetched in total)\n"
     ]
    },
    {
     "name": "stdout",
     "output_type": "stream",
     "text": [
      "[{'date': datetime.datetime(2024, 6, 25, 9, 56, 18),\n",
      "  'developerResponse': {'body': 'Terima kasih, kami senang mengetahuinya! '\n",
      "                                'Umpan balik Anda sangat penting bagi kami! 💞 '\n",
      "                                'Terima kasih banyak, tim Baby Tracker!',\n",
      "                        'id': 45000143,\n",
      "                        'modified': '2024-07-02T18:24:32Z'},\n",
      "  'isEdited': False,\n",
      "  'rating': 5,\n",
      "  'review': 'Sangat baik sekali membatu lacak kehamilan saya,dan penjelasannya '\n",
      "            'sangat detail sampe di perlihatkan contoh hasil usg nya',\n",
      "  'title': 'Apk good',\n",
      "  'userName': 'dilaaand'},\n",
      " {'date': datetime.datetime(2023, 2, 9, 2, 18, 35),\n",
      "  'developerResponse': {'body': 'Thanks for the feedback 😊',\n",
      "                        'id': 34800548,\n",
      "                        'modified': '2023-02-10T17:36:15Z'},\n",
      "  'isEdited': False,\n",
      "  'rating': 5,\n",
      "  'review': 'My Birisa',\n",
      "  'title': 'Nikmat Bangit sy',\n",
      "  'userName': 'Imaculada Babo Soares'}]\n",
      "Total review fetched: 2\n"
     ]
    }
   ],
   "source": [
    "amma = AppStore(country=\"id\", app_name=\"amma: Pregnancy & Baby Tracker\", app_id=\"990178211\")\n",
    "amma.review() \n",
    "\n",
    "pprint(amma.reviews)\n",
    "print(f'Total review fetched: {amma.reviews_count}')"
   ]
  },
  {
   "cell_type": "code",
   "execution_count": null,
   "metadata": {},
   "outputs": [],
   "source": []
  }
 ],
 "metadata": {
  "kernelspec": {
   "display_name": "venv",
   "language": "python",
   "name": "python3"
  },
  "language_info": {
   "codemirror_mode": {
    "name": "ipython",
    "version": 3
   },
   "file_extension": ".py",
   "mimetype": "text/x-python",
   "name": "python",
   "nbconvert_exporter": "python",
   "pygments_lexer": "ipython3",
   "version": "3.10.11"
  }
 },
 "nbformat": 4,
 "nbformat_minor": 2
}
