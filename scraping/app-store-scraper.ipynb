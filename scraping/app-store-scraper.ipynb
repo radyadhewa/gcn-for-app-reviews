{
 "cells": [
  {
   "cell_type": "markdown",
   "metadata": {},
   "source": [
    "# Initiate Library"
   ]
  },
  {
   "cell_type": "code",
   "execution_count": 8,
   "metadata": {},
   "outputs": [],
   "source": [
    "import pandas as pd\n",
    "import numpy as np\n",
    "import json\n",
    "\n",
    "from app_store_scraper import AppStore\n",
    "from pprint import pprint\n",
    "from datetime import datetime"
   ]
  },
  {
   "cell_type": "markdown",
   "metadata": {},
   "source": [
    "# Scrap Data"
   ]
  },
  {
   "cell_type": "markdown",
   "metadata": {},
   "source": [
    "## Amma App"
   ]
  },
  {
   "cell_type": "code",
   "execution_count": 5,
   "metadata": {},
   "outputs": [
    {
     "name": "stderr",
     "output_type": "stream",
     "text": [
      "2025-02-18 08:13:26,694 [INFO] Base - Initialised: AppStore('id', 'amma-pregnancy-baby-tracker', 990178211)\n",
      "2025-02-18 08:13:26,694 [INFO] Base - Ready to fetch reviews from: https://apps.apple.com/id/app/amma-pregnancy-baby-tracker/id990178211\n",
      "2025-02-18 08:13:26,815 [INFO] Base - [id:990178211] Fetched 2 reviews (2 fetched in total)\n"
     ]
    },
    {
     "name": "stdout",
     "output_type": "stream",
     "text": [
      "[{'date': datetime.datetime(2024, 6, 25, 9, 56, 18),\n",
      "  'developerResponse': {'body': 'Terima kasih, kami senang mengetahuinya! '\n",
      "                                'Umpan balik Anda sangat penting bagi kami! 💞 '\n",
      "                                'Terima kasih banyak, tim Baby Tracker!',\n",
      "                        'id': 45000143,\n",
      "                        'modified': '2024-07-02T18:24:32Z'},\n",
      "  'isEdited': False,\n",
      "  'rating': 5,\n",
      "  'review': 'Sangat baik sekali membatu lacak kehamilan saya,dan penjelasannya '\n",
      "            'sangat detail sampe di perlihatkan contoh hasil usg nya',\n",
      "  'title': 'Apk good',\n",
      "  'userName': 'dilaaand'},\n",
      " {'date': datetime.datetime(2023, 2, 9, 2, 18, 35),\n",
      "  'developerResponse': {'body': 'Thanks for the feedback 😊',\n",
      "                        'id': 34800548,\n",
      "                        'modified': '2023-02-10T17:36:15Z'},\n",
      "  'isEdited': False,\n",
      "  'rating': 5,\n",
      "  'review': 'My Birisa',\n",
      "  'title': 'Nikmat Bangit sy',\n",
      "  'userName': 'Imaculada Babo Soares'}]\n",
      "Total review fetched: 2\n"
     ]
    }
   ],
   "source": [
    "amma = AppStore(country=\"id\", app_name=\"amma: Pregnancy & Baby Tracker\", app_id=\"990178211\")\n",
    "amma.review() \n",
    "\n",
    "pprint(amma.reviews)\n",
    "print(f'Total review fetched: {amma.reviews_count}')"
   ]
  },
  {
   "cell_type": "code",
   "execution_count": null,
   "metadata": {},
   "outputs": [],
   "source": [
    "filtered_reviews = [\n",
    "    {\n",
    "        \"review_id\": r[\"developerResponse\"][\"id\"] if \"developerResponse\" in r else None,\n",
    "        \"review\": r[\"review\"],\n",
    "        \"rating\": r[\"rating\"],\n",
    "        \"date\": r[\"date\"].strftime(\"%Y-%m-%d %H:%M:%S\"),\n",
    "        \"reply\": r[\"developerResponse\"][\"body\"] if \"developerResponse\" in r else None,\n",
    "        \"application\": \"Amma\"\n",
    "    }\n",
    "    for r in amma.reviews\n",
    "]"
   ]
  },
  {
   "cell_type": "code",
   "execution_count": 9,
   "metadata": {},
   "outputs": [],
   "source": [
    "df = pd.DataFrame(filtered_reviews)"
   ]
  },
  {
   "cell_type": "code",
   "execution_count": 10,
   "metadata": {},
   "outputs": [
    {
     "data": {
      "text/html": [
       "<div>\n",
       "<style scoped>\n",
       "    .dataframe tbody tr th:only-of-type {\n",
       "        vertical-align: middle;\n",
       "    }\n",
       "\n",
       "    .dataframe tbody tr th {\n",
       "        vertical-align: top;\n",
       "    }\n",
       "\n",
       "    .dataframe thead th {\n",
       "        text-align: right;\n",
       "    }\n",
       "</style>\n",
       "<table border=\"1\" class=\"dataframe\">\n",
       "  <thead>\n",
       "    <tr style=\"text-align: right;\">\n",
       "      <th></th>\n",
       "      <th>review</th>\n",
       "      <th>review_id</th>\n",
       "      <th>username</th>\n",
       "      <th>rating</th>\n",
       "      <th>date</th>\n",
       "      <th>reply</th>\n",
       "    </tr>\n",
       "  </thead>\n",
       "  <tbody>\n",
       "    <tr>\n",
       "      <th>0</th>\n",
       "      <td>Sangat baik sekali membatu lacak kehamilan say...</td>\n",
       "      <td>45000143</td>\n",
       "      <td>dilaaand</td>\n",
       "      <td>5</td>\n",
       "      <td>2024-06-25 09:56:18</td>\n",
       "      <td>Terima kasih, kami senang mengetahuinya! Umpan...</td>\n",
       "    </tr>\n",
       "    <tr>\n",
       "      <th>1</th>\n",
       "      <td>My Birisa</td>\n",
       "      <td>34800548</td>\n",
       "      <td>Imaculada Babo Soares</td>\n",
       "      <td>5</td>\n",
       "      <td>2023-02-09 02:18:35</td>\n",
       "      <td>Thanks for the feedback 😊</td>\n",
       "    </tr>\n",
       "  </tbody>\n",
       "</table>\n",
       "</div>"
      ],
      "text/plain": [
       "                                              review  review_id  \\\n",
       "0  Sangat baik sekali membatu lacak kehamilan say...   45000143   \n",
       "1                                          My Birisa   34800548   \n",
       "\n",
       "                username  rating                 date  \\\n",
       "0               dilaaand       5  2024-06-25 09:56:18   \n",
       "1  Imaculada Babo Soares       5  2023-02-09 02:18:35   \n",
       "\n",
       "                                               reply  \n",
       "0  Terima kasih, kami senang mengetahuinya! Umpan...  \n",
       "1                          Thanks for the feedback 😊  "
      ]
     },
     "execution_count": 10,
     "metadata": {},
     "output_type": "execute_result"
    }
   ],
   "source": [
    "df.head()"
   ]
  },
  {
   "cell_type": "code",
   "execution_count": 14,
   "metadata": {},
   "outputs": [
    {
     "data": {
      "text/html": [
       "<div>\n",
       "<style scoped>\n",
       "    .dataframe tbody tr th:only-of-type {\n",
       "        vertical-align: middle;\n",
       "    }\n",
       "\n",
       "    .dataframe tbody tr th {\n",
       "        vertical-align: top;\n",
       "    }\n",
       "\n",
       "    .dataframe thead th {\n",
       "        text-align: right;\n",
       "    }\n",
       "</style>\n",
       "<table border=\"1\" class=\"dataframe\">\n",
       "  <thead>\n",
       "    <tr style=\"text-align: right;\">\n",
       "      <th></th>\n",
       "      <th>date</th>\n",
       "      <th>developerResponse</th>\n",
       "      <th>review</th>\n",
       "      <th>rating</th>\n",
       "      <th>isEdited</th>\n",
       "      <th>userName</th>\n",
       "      <th>title</th>\n",
       "    </tr>\n",
       "  </thead>\n",
       "  <tbody>\n",
       "    <tr>\n",
       "      <th>0</th>\n",
       "      <td>2024-06-25 09:56:18</td>\n",
       "      <td>{'id': 45000143, 'body': 'Terima kasih, kami s...</td>\n",
       "      <td>Sangat baik sekali membatu lacak kehamilan say...</td>\n",
       "      <td>5</td>\n",
       "      <td>False</td>\n",
       "      <td>dilaaand</td>\n",
       "      <td>Apk good</td>\n",
       "    </tr>\n",
       "    <tr>\n",
       "      <th>1</th>\n",
       "      <td>2023-02-09 02:18:35</td>\n",
       "      <td>{'id': 34800548, 'body': 'Thanks for the feedb...</td>\n",
       "      <td>My Birisa</td>\n",
       "      <td>5</td>\n",
       "      <td>False</td>\n",
       "      <td>Imaculada Babo Soares</td>\n",
       "      <td>Nikmat Bangit sy</td>\n",
       "    </tr>\n",
       "  </tbody>\n",
       "</table>\n",
       "</div>"
      ],
      "text/plain": [
       "                 date                                  developerResponse  \\\n",
       "0 2024-06-25 09:56:18  {'id': 45000143, 'body': 'Terima kasih, kami s...   \n",
       "1 2023-02-09 02:18:35  {'id': 34800548, 'body': 'Thanks for the feedb...   \n",
       "\n",
       "                                              review  rating  isEdited  \\\n",
       "0  Sangat baik sekali membatu lacak kehamilan say...       5     False   \n",
       "1                                          My Birisa       5     False   \n",
       "\n",
       "                userName             title  \n",
       "0               dilaaand          Apk good  \n",
       "1  Imaculada Babo Soares  Nikmat Bangit sy  "
      ]
     },
     "execution_count": 14,
     "metadata": {},
     "output_type": "execute_result"
    }
   ],
   "source": [
    "df2 = pd.DataFrame(np.array(amma.reviews), columns=['review'])\n",
    "df22 = df2.join(pd.DataFrame(df2.pop('review').tolist()))\n",
    "df22.head()\n"
   ]
  },
  {
   "cell_type": "code",
   "execution_count": null,
   "metadata": {},
   "outputs": [],
   "source": []
  }
 ],
 "metadata": {
  "kernelspec": {
   "display_name": "venv",
   "language": "python",
   "name": "python3"
  },
  "language_info": {
   "codemirror_mode": {
    "name": "ipython",
    "version": 3
   },
   "file_extension": ".py",
   "mimetype": "text/x-python",
   "name": "python",
   "nbconvert_exporter": "python",
   "pygments_lexer": "ipython3",
   "version": "3.10.11"
  }
 },
 "nbformat": 4,
 "nbformat_minor": 2
}
