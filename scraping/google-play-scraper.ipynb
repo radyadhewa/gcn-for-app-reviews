{
 "cells": [
  {
   "cell_type": "markdown",
   "metadata": {},
   "source": [
    "# Initiate the library needed"
   ]
  },
  {
   "cell_type": "code",
   "execution_count": 2,
   "metadata": {},
   "outputs": [],
   "source": [
    "import pandas as pd\n",
    "import numpy as np\n",
    "import json\n",
    "\n",
    "from google_play_scraper import app, Sort, reviews, reviews_all"
   ]
  },
  {
   "cell_type": "markdown",
   "metadata": {},
   "source": [
    "# Scrap Data"
   ]
  },
  {
   "cell_type": "markdown",
   "metadata": {},
   "source": [
    "## Sehati Bidan App"
   ]
  },
  {
   "cell_type": "markdown",
   "metadata": {},
   "source": [
    "### App info"
   ]
  },
  {
   "cell_type": "code",
   "execution_count": 3,
   "metadata": {},
   "outputs": [],
   "source": [
    "app_info = app(\n",
    "  'com.sehati.kehamilan.sehati_bidan_android',\n",
    "  lang = 'id',\n",
    "  country = 'id'\n",
    ")"
   ]
  },
  {
   "cell_type": "code",
   "execution_count": 4,
   "metadata": {},
   "outputs": [
    {
     "name": "stdout",
     "output_type": "stream",
     "text": [
      "{\n",
      "    \"title\": \"Sehati Bidan\",\n",
      "    \"description\": \"Sehati dengan bidan dalam memberikan pelayanan kesehatan maternal berkualitas.\\r\\n\\r\\nAplikasi medis Bidan Sehati akan memandu Bidan dalam melakukan pemeriksaan ANC, INC, dan PNC dengan pencatatan digital yang mudah dan praktis. Aplikasi ini dilengkapi dengan berbagai fitur yang dapat memudahkan Bidan dalam memberikan pelayanan kesehatan maternal yang berkualitas untuk pasien-pasiennya. \\r\\n\\r\\n<h1><b>DENGAN APLIKASI INI BIDAN DAPAT:</b></h1>\\r\\nMencatat hasil sesi asuhan ANC, INC dan PNC \\r\\nMelihat dan mengakses status pasien: potensi faktor risiko dan usia kehamilan (preterm, aterm, serotinus)\\r\\nMembuat jadwal kunjungan pasien\\r\\nMelihat potensi faktor risiko setiap pasien secara mudah, dengan lebih dari 45 faktor risiko yang dapat terdeteksi \\r\\nMelakukan pemeriksaan cardiotocography dengan alat TeleCTG (dijual terpisah) dan terkoneksi dengan dokter spesialis kandungan di Pusat Konsultasi Sehati. Aplikasi dan alat TeleCTG harus digunakan secara bersama-sama untuk menjalankan solusi ini.\\r\\n\\r\\n<h1><b>BIDAN DAPAT MEMBERIKAN PELAYANAN YANG LEBIH BERKUALITAS, DENGAN:</b></h1>\\r\\nData pasien yang lebih terorganisir.\\r\\nCatatan medis digital yang mudah diakses ke mana pun Bidan pergi. \\r\\nMembantu memantau perkembangan kehamilan pasien secara mudah, kapan saja di mana saja.\\r\\nBidan dapat mengunduh pelaporan kohort dari aplikasi (segera hadir). Tidak ada lagi laporan manual yang merepotkan! \\r\\n\\r\\n<h1><b>SIAPA YANG BISA MENGGUNAKAN APLIKASI BIDAN SEHATI? </b></h1>\\r\\nAplikasi Bidan Sehati dapat digunakan oleh Bidan Indonesia yang bekerja di Fasilitas Kesehatan (Puskesmas, Rumah Sakit dan Klinik Spesialis Kandungan), Praktik Mandiri Bidan (PMB), maupun Bidan Desa.\\r\\n\\r\\nUntuk tahu lebih lanjut mengenai aplikasi Bidan Sehati dan fungsinya dalam ekosistem Sehati, silakan kunjungi website kami di https://sehati.co/.\",\n",
      "    \"descriptionHTML\": \"Sehati dengan bidan dalam memberikan pelayanan kesehatan maternal berkualitas.<br><br>Aplikasi medis Bidan Sehati akan memandu Bidan dalam melakukan pemeriksaan ANC, INC, dan PNC dengan pencatatan digital yang mudah dan praktis. Aplikasi ini dilengkapi dengan berbagai fitur yang dapat memudahkan Bidan dalam memberikan pelayanan kesehatan maternal yang berkualitas untuk pasien-pasiennya. <br><br><h1><b>DENGAN APLIKASI INI BIDAN DAPAT:</b></h1><br>Mencatat hasil sesi asuhan ANC, INC dan PNC <br>Melihat dan mengakses status pasien: potensi faktor risiko dan usia kehamilan (preterm, aterm, serotinus)<br>Membuat jadwal kunjungan pasien<br>Melihat potensi faktor risiko setiap pasien secara mudah, dengan lebih dari 45 faktor risiko yang dapat terdeteksi <br>Melakukan pemeriksaan cardiotocography dengan alat TeleCTG (dijual terpisah) dan terkoneksi dengan dokter spesialis kandungan di Pusat Konsultasi Sehati. Aplikasi dan alat TeleCTG harus digunakan secara bersama-sama untuk menjalankan solusi ini.<br><br><h1><b>BIDAN DAPAT MEMBERIKAN PELAYANAN YANG LEBIH BERKUALITAS, DENGAN:</b></h1><br>Data pasien yang lebih terorganisir.<br>Catatan medis digital yang mudah diakses ke mana pun Bidan pergi. <br>Membantu memantau perkembangan kehamilan pasien secara mudah, kapan saja di mana saja.<br>Bidan dapat mengunduh pelaporan kohort dari aplikasi (segera hadir). Tidak ada lagi laporan manual yang merepotkan! <br><br><h1><b>SIAPA YANG BISA MENGGUNAKAN APLIKASI BIDAN SEHATI? </b></h1><br>Aplikasi Bidan Sehati dapat digunakan oleh Bidan Indonesia yang bekerja di Fasilitas Kesehatan (Puskesmas, Rumah Sakit dan Klinik Spesialis Kandungan), Praktik Mandiri Bidan (PMB), maupun Bidan Desa.<br><br>Untuk tahu lebih lanjut mengenai aplikasi Bidan Sehati dan fungsinya dalam ekosistem Sehati, silakan kunjungi website kami di https://sehati.co/.\",\n",
      "    \"summary\": \"Aplikasi medis yang dipakai Bidan dalam pemeriksaan kesehatan ibu hamil.\",\n",
      "    \"installs\": \"10.000+\",\n",
      "    \"minInstalls\": 10000,\n",
      "    \"realInstalls\": 18076,\n",
      "    \"score\": 4.1,\n",
      "    \"ratings\": 145,\n",
      "    \"reviews\": 69,\n",
      "    \"histogram\": [\n",
      "        18,\n",
      "        4,\n",
      "        13,\n",
      "        15,\n",
      "        92\n",
      "    ],\n",
      "    \"price\": 0,\n",
      "    \"free\": true,\n",
      "    \"currency\": \"IDR\",\n",
      "    \"sale\": false,\n",
      "    \"saleTime\": null,\n",
      "    \"originalPrice\": null,\n",
      "    \"saleText\": null,\n",
      "    \"offersIAP\": false,\n",
      "    \"inAppProductPrice\": null,\n",
      "    \"developer\": \"Sehati TeleCTG\",\n",
      "    \"developerId\": \"Sehati+TeleCTG\",\n",
      "    \"developerEmail\": \"dev@telectg.co.id\",\n",
      "    \"developerWebsite\": \"https://sehati.co\",\n",
      "    \"developerAddress\": null,\n",
      "    \"privacyPolicy\": \"https://sehati.co/privacy-policy/\",\n",
      "    \"genre\": \"Medis\",\n",
      "    \"genreId\": \"MEDICAL\",\n",
      "    \"categories\": [\n",
      "        {\n",
      "            \"name\": \"Medis\",\n",
      "            \"id\": \"MEDICAL\"\n",
      "        }\n",
      "    ],\n",
      "    \"icon\": \"https://play-lh.googleusercontent.com/t9gClahmEMelorm8dGGZ3C-rReYAr8tVI2VxaEJkLUQ7sBo0xtryS5Qdd3VdTDWQYgQL\",\n",
      "    \"headerImage\": \"https://play-lh.googleusercontent.com/E4PuYbGKxbKRVW-CfdWsFmsH5R38QkNIjrYIFaBoz1Oay8AYzRUwDVgjtdQMAYNA-L8\",\n",
      "    \"screenshots\": [\n",
      "        \"https://play-lh.googleusercontent.com/sytvStVNrvbKdfrrt-QMOT16ZRa5Jorm-MCdE2T5xHnIH89WWn1Fdp8ggDgtUCNJBg\",\n",
      "        \"https://play-lh.googleusercontent.com/i8Kup8pvyRejsDedFNNRbliTfDfsAugw69LqW_Prq8WsJCInnmADmJ5CVce-y53LoaBt\",\n",
      "        \"https://play-lh.googleusercontent.com/h385ecZ3_f9vdUDM7lpcv9xf5UCr2k2xMdFJ0yGyAltW1Cew5Jf9vN2VEV4enZ6ncg\",\n",
      "        \"https://play-lh.googleusercontent.com/DB576kAJ__PJ1VQSLc4dga_mKorM7iMK8fkzsMDzbrHNlbimACQ_K5Vsbm11_VyAOEM\",\n",
      "        \"https://play-lh.googleusercontent.com/OTv8JYi0Wqh1W05UFI6rTUctib1VRnmvcVOk-G3tWqqzdje0G-oUYNrcjAK_UStK-g\"\n",
      "    ],\n",
      "    \"video\": null,\n",
      "    \"videoImage\": null,\n",
      "    \"contentRating\": \"Rating 3+\",\n",
      "    \"contentRatingDescription\": null,\n",
      "    \"adSupported\": false,\n",
      "    \"containsAds\": false,\n",
      "    \"released\": \"25 Jun 2018\",\n",
      "    \"lastUpdatedOn\": \"15 Mar 2022\",\n",
      "    \"updated\": 1647413526,\n",
      "    \"version\": \"3.6.2\",\n",
      "    \"comments\": [],\n",
      "    \"appId\": \"com.sehati.kehamilan.sehati_bidan_android\",\n",
      "    \"url\": \"https://play.google.com/store/apps/details?id=com.sehati.kehamilan.sehati_bidan_android&hl=id&gl=id\"\n",
      "}\n"
     ]
    }
   ],
   "source": [
    "print(json.dumps(app_info, indent=4))"
   ]
  },
  {
   "cell_type": "code",
   "execution_count": 5,
   "metadata": {},
   "outputs": [],
   "source": [
    "infoApp_sehati = pd.DataFrame([app_info])\n",
    "infoApp_sehati = infoApp_sehati[[\"title\", \"summary\", \"realInstalls\", \"score\", \"ratings\", \"reviews\", \"free\"]]"
   ]
  },
  {
   "cell_type": "markdown",
   "metadata": {},
   "source": [
    "### App reviews"
   ]
  },
  {
   "cell_type": "code",
   "execution_count": 6,
   "metadata": {},
   "outputs": [
    {
     "name": "stdout",
     "output_type": "stream",
     "text": [
      "Total review ID scraped: 59\n"
     ]
    }
   ],
   "source": [
    "result, continuation_token = reviews(\n",
    "  'com.sehati.kehamilan.sehati_bidan_android',\n",
    "  lang = 'id',\n",
    "  country = 'id',\n",
    "  sort = Sort.NEWEST,\n",
    "  count = 200,\n",
    "  filter_score_with = None\n",
    ")\n",
    "\n",
    "if len(result) >= 200 and continuation_token:\n",
    "  more_result, _ = reviews(\n",
    "    'com.sehati.kehamilan.sehati_bidan_android',\n",
    "    continuation_token = continuation_token\n",
    "  )\n",
    "  result.extend(more_result)\n",
    "\n",
    "print(f\"Total review ID scraped: {len(result)}\")"
   ]
  },
  {
   "cell_type": "code",
   "execution_count": 7,
   "metadata": {},
   "outputs": [],
   "source": [
    "df_id = pd.DataFrame(result)"
   ]
  },
  {
   "cell_type": "code",
   "execution_count": 8,
   "metadata": {},
   "outputs": [
    {
     "name": "stdout",
     "output_type": "stream",
     "text": [
      "Total review EN scraped: 10\n"
     ]
    }
   ],
   "source": [
    "result, continuation_token = reviews(\n",
    "  'com.sehati.kehamilan.sehati_bidan_android',\n",
    "  lang = 'en',\n",
    "  country = 'id',\n",
    "  sort = Sort.NEWEST,\n",
    "  count = 200,\n",
    "  filter_score_with = None\n",
    ")\n",
    "\n",
    "if len(result) >= 200 and continuation_token:\n",
    "  more_result, _ = reviews(\n",
    "    'com.sehati.kehamilan.sehati_bidan_android',\n",
    "    continuation_token = continuation_token\n",
    "  )\n",
    "  result.extend(more_result)\n",
    "\n",
    "print(f\"Total review EN scraped: {len(result)}\")"
   ]
  },
  {
   "cell_type": "code",
   "execution_count": 9,
   "metadata": {},
   "outputs": [],
   "source": [
    "df_en = pd.DataFrame(result)"
   ]
  },
  {
   "cell_type": "code",
   "execution_count": 10,
   "metadata": {},
   "outputs": [
    {
     "data": {
      "text/plain": [
       "(69, 11)"
      ]
     },
     "execution_count": 10,
     "metadata": {},
     "output_type": "execute_result"
    }
   ],
   "source": [
    "dfApp_sehati = pd.concat([df_id, df_en], axis=0, ignore_index= True)\n",
    "dfApp_sehati.shape"
   ]
  },
  {
   "cell_type": "code",
   "execution_count": 11,
   "metadata": {},
   "outputs": [
    {
     "data": {
      "text/html": [
       "<div>\n",
       "<style scoped>\n",
       "    .dataframe tbody tr th:only-of-type {\n",
       "        vertical-align: middle;\n",
       "    }\n",
       "\n",
       "    .dataframe tbody tr th {\n",
       "        vertical-align: top;\n",
       "    }\n",
       "\n",
       "    .dataframe thead th {\n",
       "        text-align: right;\n",
       "    }\n",
       "</style>\n",
       "<table border=\"1\" class=\"dataframe\">\n",
       "  <thead>\n",
       "    <tr style=\"text-align: right;\">\n",
       "      <th></th>\n",
       "      <th>reviewId</th>\n",
       "      <th>userName</th>\n",
       "      <th>userImage</th>\n",
       "      <th>content</th>\n",
       "      <th>score</th>\n",
       "      <th>thumbsUpCount</th>\n",
       "      <th>reviewCreatedVersion</th>\n",
       "      <th>at</th>\n",
       "      <th>replyContent</th>\n",
       "      <th>repliedAt</th>\n",
       "      <th>appVersion</th>\n",
       "    </tr>\n",
       "  </thead>\n",
       "  <tbody>\n",
       "    <tr>\n",
       "      <th>0</th>\n",
       "      <td>3c1c4e4e-8fc1-4041-a1ee-58f7b96874fa</td>\n",
       "      <td>Muhamad Reza Adityawarman</td>\n",
       "      <td>https://play-lh.googleusercontent.com/a-/ALV-U...</td>\n",
       "      <td>UI/UX consultana abi juaraaaaaaaaaaa</td>\n",
       "      <td>5</td>\n",
       "      <td>0</td>\n",
       "      <td>3.6.2</td>\n",
       "      <td>2024-11-06 13:43:40</td>\n",
       "      <td>None</td>\n",
       "      <td>NaT</td>\n",
       "      <td>3.6.2</td>\n",
       "    </tr>\n",
       "    <tr>\n",
       "      <th>1</th>\n",
       "      <td>a3821934-258e-4916-b8cb-cd4a2711ae1d</td>\n",
       "      <td>Yessy Nenty Nur Oktavianty</td>\n",
       "      <td>https://play-lh.googleusercontent.com/a-/ALV-U...</td>\n",
       "      <td>Mohon maaf saya mau registrasi via wa knp blm ...</td>\n",
       "      <td>2</td>\n",
       "      <td>0</td>\n",
       "      <td>3.6.2</td>\n",
       "      <td>2024-06-23 16:20:11</td>\n",
       "      <td>None</td>\n",
       "      <td>NaT</td>\n",
       "      <td>3.6.2</td>\n",
       "    </tr>\n",
       "    <tr>\n",
       "      <th>2</th>\n",
       "      <td>95c28411-5b84-4e9b-9753-88e0f54d6e0d</td>\n",
       "      <td>ARRUM AULIA</td>\n",
       "      <td>https://play-lh.googleusercontent.com/a-/ALV-U...</td>\n",
       "      <td>TIDAK MEREKOMENDASIKAN APLIKASI YANG SANGAT SA...</td>\n",
       "      <td>1</td>\n",
       "      <td>0</td>\n",
       "      <td>3.6.2</td>\n",
       "      <td>2023-04-07 07:50:41</td>\n",
       "      <td>None</td>\n",
       "      <td>NaT</td>\n",
       "      <td>3.6.2</td>\n",
       "    </tr>\n",
       "  </tbody>\n",
       "</table>\n",
       "</div>"
      ],
      "text/plain": [
       "                               reviewId                    userName  \\\n",
       "0  3c1c4e4e-8fc1-4041-a1ee-58f7b96874fa   Muhamad Reza Adityawarman   \n",
       "1  a3821934-258e-4916-b8cb-cd4a2711ae1d  Yessy Nenty Nur Oktavianty   \n",
       "2  95c28411-5b84-4e9b-9753-88e0f54d6e0d                 ARRUM AULIA   \n",
       "\n",
       "                                           userImage  \\\n",
       "0  https://play-lh.googleusercontent.com/a-/ALV-U...   \n",
       "1  https://play-lh.googleusercontent.com/a-/ALV-U...   \n",
       "2  https://play-lh.googleusercontent.com/a-/ALV-U...   \n",
       "\n",
       "                                             content  score  thumbsUpCount  \\\n",
       "0               UI/UX consultana abi juaraaaaaaaaaaa      5              0   \n",
       "1  Mohon maaf saya mau registrasi via wa knp blm ...      2              0   \n",
       "2  TIDAK MEREKOMENDASIKAN APLIKASI YANG SANGAT SA...      1              0   \n",
       "\n",
       "  reviewCreatedVersion                  at replyContent repliedAt appVersion  \n",
       "0                3.6.2 2024-11-06 13:43:40         None       NaT      3.6.2  \n",
       "1                3.6.2 2024-06-23 16:20:11         None       NaT      3.6.2  \n",
       "2                3.6.2 2023-04-07 07:50:41         None       NaT      3.6.2  "
      ]
     },
     "execution_count": 11,
     "metadata": {},
     "output_type": "execute_result"
    }
   ],
   "source": [
    "dfApp_sehati.head(3)"
   ]
  },
  {
   "cell_type": "code",
   "execution_count": 12,
   "metadata": {},
   "outputs": [],
   "source": [
    "dfApp_sehati = dfApp_sehati[['reviewId', 'content', 'score', 'at','replyContent', 'appVersion']]\n",
    "dfApp_sehati[\"application\"] = \"Sehati Bidan\""
   ]
  },
  {
   "cell_type": "markdown",
   "metadata": {},
   "source": [
    "## Bidanku App"
   ]
  },
  {
   "cell_type": "markdown",
   "metadata": {},
   "source": [
    "### App info"
   ]
  },
  {
   "cell_type": "code",
   "execution_count": 13,
   "metadata": {},
   "outputs": [],
   "source": [
    "app_info = app(\n",
    "  'com.myapp.bidanku',\n",
    "  lang = 'id',\n",
    "  country = 'id'\n",
    ")"
   ]
  },
  {
   "cell_type": "code",
   "execution_count": 14,
   "metadata": {},
   "outputs": [
    {
     "name": "stdout",
     "output_type": "stream",
     "text": [
      "{\n",
      "    \"title\": \"BidanKu\",\n",
      "    \"description\": \"Bidanku adalah aplikasi kesehatan yang dirancang untuk memberikan dukungan dan informasi kepada ibu hamil, ibu menyusui, dan keluarga mereka. Aplikasi ini menawarkan berbagai fitur yang membantu pengguna dalam mendapatkan pengetahuan dan layanan kesehatan yang mereka butuhkan.\\r\\n\\r\\nFitur-fitur utama Bidanku:\\r\\n\\r\\nChat: Pengguna dapat berkomunikasi langsung dengan tenaga kesehatan profesional untuk mendapatkan saran dan konsultasi seputar kehamilan, menyusui, dan kesehatan anak. Fitur chat ini memungkinkan interaksi real-time yang membantu pengguna mendapatkan jawaban cepat atas pertanyaan mereka, mengurangi kecemasan, dan memberikan panduan yang dapat diandalkan.\\r\\n\\r\\nArtikel: Menyediakan berbagai artikel informatif dan edukatif yang ditulis oleh pakar kesehatan. Artikel ini mencakup topik-topik penting seperti kehamilan, nutrisi, perawatan bayi, dan kesehatan keluarga. Dengan sumber informasi yang terpercaya, pengguna dapat memperluas pengetahuan mereka tentang berbagai aspek kesehatan dan kesejahteraan, serta mengikuti perkembangan terbaru dalam dunia medis yang relevan dengan kebutuhan mereka.\\r\\n\\r\\nPretest dan Postest Modul: Fitur ini memungkinkan pengguna untuk menguji pengetahuan mereka sebelum dan setelah mempelajari modul tertentu, sehingga mereka dapat mengukur pemahaman dan kemajuan belajar mereka. Dengan adanya pretest dan postest, pengguna dapat menilai seberapa baik mereka memahami materi yang diberikan dan mengidentifikasi area yang perlu ditingkatkan. Ini membantu memastikan bahwa mereka mendapatkan manfaat maksimal dari setiap modul yang mereka pelajari.\\r\\n\\r\\nAkses RS Terdekat: Menyediakan informasi tentang rumah sakit terdekat yang dapat diakses oleh pengguna, lengkap dengan peta lokasi dan detail kontak. Fitur ini memudahkan pengguna dalam mencari layanan kesehatan darurat atau rutin, memastikan bahwa mereka dapat dengan cepat menemukan fasilitas medis yang diperlukan. Informasi yang disediakan termasuk alamat, nomor telepon, dan layanan yang tersedia di rumah sakit tersebut.\\r\\n\\r\\nDengan Bidanku, pengguna dapat merasa lebih siap dan terinformasi dalam menghadapi berbagai tahapan dalam kehamilan dan perawatan anak, serta mendapatkan dukungan yang mereka butuhkan kapan saja dan di mana saja. Aplikasi ini dirancang dengan antarmuka yang user-friendly, sehingga mudah digunakan oleh siapa saja, termasuk mereka yang mungkin tidak terlalu akrab dengan teknologi. Setiap fitur dalam aplikasi ini dirancang untuk memberikan nilai tambah yang nyata bagi pengguna, membantu mereka mengatasi tantangan sehari-hari dan membuat keputusan yang lebih baik terkait kesehatan mereka dan keluarga.\\r\\n\\r\\nFitur chat memungkinkan interaksi pribadi dan dukungan emosional yang sering kali sangat diperlukan selama masa kehamilan dan menyusui. Artikel yang disediakan memberikan panduan praktis dan saran yang bisa diimplementasikan langsung dalam kehidupan sehari-hari. Pretest dan postest modul memastikan bahwa pengguna tidak hanya menerima informasi, tetapi juga memahami dan dapat menerapkannya. Akses ke rumah sakit terdekat memberikan rasa aman dan kesiapan dalam menghadapi situasi darurat.\\r\\n\\r\\nSecara keseluruhan, Bidanku bertujuan untuk menjadi mitra terpercaya bagi setiap ibu hamil dan menyusui, serta keluarganya. Dengan kombinasi fitur yang komprehensif dan pendekatan yang holistik, aplikasi ini tidak hanya meningkatkan kualitas hidup pengguna tetapi juga mendukung kesehatan dan kesejahteraan secara menyeluruh. Melalui Bidanku, setiap ibu dapat merasa didukung dan dipandu dalam perjalanan mereka, dari kehamilan hingga perawatan anak, dengan informasi dan bantuan yang tepat di ujung jari mereka.\",\n",
      "    \"descriptionHTML\": \"Bidanku adalah aplikasi kesehatan yang dirancang untuk memberikan dukungan dan informasi kepada ibu hamil, ibu menyusui, dan keluarga mereka. Aplikasi ini menawarkan berbagai fitur yang membantu pengguna dalam mendapatkan pengetahuan dan layanan kesehatan yang mereka butuhkan.<br><br>Fitur-fitur utama Bidanku:<br><br>Chat: Pengguna dapat berkomunikasi langsung dengan tenaga kesehatan profesional untuk mendapatkan saran dan konsultasi seputar kehamilan, menyusui, dan kesehatan anak. Fitur chat ini memungkinkan interaksi real-time yang membantu pengguna mendapatkan jawaban cepat atas pertanyaan mereka, mengurangi kecemasan, dan memberikan panduan yang dapat diandalkan.<br><br>Artikel: Menyediakan berbagai artikel informatif dan edukatif yang ditulis oleh pakar kesehatan. Artikel ini mencakup topik-topik penting seperti kehamilan, nutrisi, perawatan bayi, dan kesehatan keluarga. Dengan sumber informasi yang terpercaya, pengguna dapat memperluas pengetahuan mereka tentang berbagai aspek kesehatan dan kesejahteraan, serta mengikuti perkembangan terbaru dalam dunia medis yang relevan dengan kebutuhan mereka.<br><br>Pretest dan Postest Modul: Fitur ini memungkinkan pengguna untuk menguji pengetahuan mereka sebelum dan setelah mempelajari modul tertentu, sehingga mereka dapat mengukur pemahaman dan kemajuan belajar mereka. Dengan adanya pretest dan postest, pengguna dapat menilai seberapa baik mereka memahami materi yang diberikan dan mengidentifikasi area yang perlu ditingkatkan. Ini membantu memastikan bahwa mereka mendapatkan manfaat maksimal dari setiap modul yang mereka pelajari.<br><br>Akses RS Terdekat: Menyediakan informasi tentang rumah sakit terdekat yang dapat diakses oleh pengguna, lengkap dengan peta lokasi dan detail kontak. Fitur ini memudahkan pengguna dalam mencari layanan kesehatan darurat atau rutin, memastikan bahwa mereka dapat dengan cepat menemukan fasilitas medis yang diperlukan. Informasi yang disediakan termasuk alamat, nomor telepon, dan layanan yang tersedia di rumah sakit tersebut.<br><br>Dengan Bidanku, pengguna dapat merasa lebih siap dan terinformasi dalam menghadapi berbagai tahapan dalam kehamilan dan perawatan anak, serta mendapatkan dukungan yang mereka butuhkan kapan saja dan di mana saja. Aplikasi ini dirancang dengan antarmuka yang user-friendly, sehingga mudah digunakan oleh siapa saja, termasuk mereka yang mungkin tidak terlalu akrab dengan teknologi. Setiap fitur dalam aplikasi ini dirancang untuk memberikan nilai tambah yang nyata bagi pengguna, membantu mereka mengatasi tantangan sehari-hari dan membuat keputusan yang lebih baik terkait kesehatan mereka dan keluarga.<br><br>Fitur chat memungkinkan interaksi pribadi dan dukungan emosional yang sering kali sangat diperlukan selama masa kehamilan dan menyusui. Artikel yang disediakan memberikan panduan praktis dan saran yang bisa diimplementasikan langsung dalam kehidupan sehari-hari. Pretest dan postest modul memastikan bahwa pengguna tidak hanya menerima informasi, tetapi juga memahami dan dapat menerapkannya. Akses ke rumah sakit terdekat memberikan rasa aman dan kesiapan dalam menghadapi situasi darurat.<br><br>Secara keseluruhan, Bidanku bertujuan untuk menjadi mitra terpercaya bagi setiap ibu hamil dan menyusui, serta keluarganya. Dengan kombinasi fitur yang komprehensif dan pendekatan yang holistik, aplikasi ini tidak hanya meningkatkan kualitas hidup pengguna tetapi juga mendukung kesehatan dan kesejahteraan secara menyeluruh. Melalui Bidanku, setiap ibu dapat merasa didukung dan dipandu dalam perjalanan mereka, dari kehamilan hingga perawatan anak, dengan informasi dan bantuan yang tepat di ujung jari mereka.\",\n",
      "    \"summary\": \"BidanKu: Aplikasi kesehatan untuk Ibu hamil dan menyusui\",\n",
      "    \"installs\": \"100+\",\n",
      "    \"minInstalls\": 100,\n",
      "    \"realInstalls\": 156,\n",
      "    \"score\": null,\n",
      "    \"ratings\": null,\n",
      "    \"reviews\": null,\n",
      "    \"histogram\": [\n",
      "        0,\n",
      "        0,\n",
      "        0,\n",
      "        0,\n",
      "        0\n",
      "    ],\n",
      "    \"price\": 0,\n",
      "    \"free\": true,\n",
      "    \"currency\": \"IDR\",\n",
      "    \"sale\": false,\n",
      "    \"saleTime\": null,\n",
      "    \"originalPrice\": null,\n",
      "    \"saleText\": null,\n",
      "    \"offersIAP\": false,\n",
      "    \"inAppProductPrice\": null,\n",
      "    \"developer\": \"Sri Yanniarti, SST., M.Keb\",\n",
      "    \"developerId\": \"Sri+Yanniarti,+SST.,+M.Keb\",\n",
      "    \"developerEmail\": \"wewetsvtr03@gmail.com\",\n",
      "    \"developerWebsite\": null,\n",
      "    \"developerAddress\": null,\n",
      "    \"privacyPolicy\": \"https://www.privacypolicies.com/live/bd0a5b42-d739-466f-8dba-dc9fdbf43a88\",\n",
      "    \"genre\": \"Medis\",\n",
      "    \"genreId\": \"MEDICAL\",\n",
      "    \"categories\": [\n",
      "        {\n",
      "            \"name\": \"Medis\",\n",
      "            \"id\": \"MEDICAL\"\n",
      "        }\n",
      "    ],\n",
      "    \"icon\": \"https://play-lh.googleusercontent.com/A9-kC67Ib4DFHXgN-2oDWIuEBUPGvjjo_VTjYvBxPfnmuM3DQRbVfetTyPYavMhS9jrq\",\n",
      "    \"headerImage\": \"https://play-lh.googleusercontent.com/nfAfe6KNz28xwSrcCFWgyMQtFAYTcTiwE32blUBA0fQVP5_Q8f_qLI1Gg_eh8DKp197G\",\n",
      "    \"screenshots\": [\n",
      "        \"https://play-lh.googleusercontent.com/gw_wrpgdyTJx4PjyXXqSu-vJUGWDT51MoyogU8hZh6X3nTmVl0QTSIXf0n_bhlHwPUQ\",\n",
      "        \"https://play-lh.googleusercontent.com/xnVZYXlt2xhWJTCx_GCoFBbX-Tv19ERTwOTZhAZov-u-8VMtHjG0NNzhOvu_X7eRpg\",\n",
      "        \"https://play-lh.googleusercontent.com/PjTto1JGms9aUNO3hSDp5qUk_y40kF-Cvaj8nd2s7Gt6u_4U_ZL9fRam3MKrLlPGO7hM\",\n",
      "        \"https://play-lh.googleusercontent.com/18GWc1OCnfCH_ETPfE-zJoR3RUVakz536AoBw_SxRuraJQSszCzfis8FR1LO6S0Lofk\",\n",
      "        \"https://play-lh.googleusercontent.com/3ACSJ-oR3-k9iLpOx0A2yEb7gO6WCgy0aIUNmujFwGvYMDTG-u8XhBw9CpPK3Vf8bA\"\n",
      "    ],\n",
      "    \"video\": null,\n",
      "    \"videoImage\": null,\n",
      "    \"contentRating\": \"Rating 12+\",\n",
      "    \"contentRatingDescription\": \"Disarankan dengan Bimbingan Orang Tua\",\n",
      "    \"adSupported\": false,\n",
      "    \"containsAds\": false,\n",
      "    \"released\": \"7 Agu 2024\",\n",
      "    \"lastUpdatedOn\": \"31 Agu 2024\",\n",
      "    \"updated\": 1725117752,\n",
      "    \"version\": \"0.1\",\n",
      "    \"comments\": [],\n",
      "    \"appId\": \"com.myapp.bidanku\",\n",
      "    \"url\": \"https://play.google.com/store/apps/details?id=com.myapp.bidanku&hl=id&gl=id\"\n",
      "}\n"
     ]
    }
   ],
   "source": [
    "print(json.dumps(app_info, indent=4))"
   ]
  },
  {
   "cell_type": "markdown",
   "metadata": {},
   "source": [
    "> reviews = null, so we can't take anything"
   ]
  },
  {
   "cell_type": "markdown",
   "metadata": {},
   "source": [
    "## Diary Bunda  App"
   ]
  },
  {
   "cell_type": "markdown",
   "metadata": {},
   "source": [
    "### App Info"
   ]
  },
  {
   "cell_type": "code",
   "execution_count": 15,
   "metadata": {},
   "outputs": [],
   "source": [
    "app_info = app(\n",
    "  'com.diarybunda',\n",
    "  lang = 'id',\n",
    "  country = 'id'\n",
    ")"
   ]
  },
  {
   "cell_type": "code",
   "execution_count": 16,
   "metadata": {},
   "outputs": [
    {
     "name": "stdout",
     "output_type": "stream",
     "text": [
      "{\n",
      "    \"title\": \"Diary Bunda Aplikasi Kehamilan\",\n",
      "    \"description\": \"Selamat atas kehamilan kamu, dan selamat datang di Diary Bunda \\u2014 aplikasi kehamilan dan kesehatan ibu dan anak terbaik yang telah dipercayai oleh lebih dari <b>900.000</b> ibu di Indonesia!\\r\\n\\r\\nSebagai ibu hamil, terutama kehamilan pertama, pasti ada banyak pertanyaan dan kebingungan yang bisa membuatmu cemas dan khawatir dengan kesehatanmu dan bayi. Dipercayai oleh ratusan ribu keluarga, Diary Bunda akan menemanimu menjalani hari demi hari masa kehamilanmu sehingga tidak perlu khawatir lagi. Aplikasi kami memberikan informasi tentang berbagai perubahan menarik yang terjadi pada tubuhmu dan bayi yang sedang berkembang di dalam perut ibu.\\r\\n\\r\\nUntuk mulai memakai Diary Bunda, kamu hanya perlu memasukkan HPL (hari perkiraan lahir) dan aplikasi ini akan secara otomatis memberikan <i>daily</i> dan <i>weekly updates</i> sesuai dengan pertumbuhan bayi dan ibu, disertai ilustrasi menarik dan cantik. Dapatkan informasi penting tentang kehamilan, dari trik mengatasi <i>morning sickness</i>, panduan nutrisi, mitos dan fakta kehamilan, tips memilih sepatu yang tepat, hingga tips agar bisa tidur nyenyak saat perut sebesar semangka.\\r\\n\\r\\nKetika bayi sudah lahir, aplikasi ini akan secara otomatis berubah menjadi panduan <i>parenting</i> yang akan membantumu menjalani peran sebagai orang tua. Temukan berbagai informasi penting mulai dari proses pemulihan persalinan, <i>milestones</i> anak, tips makanan, tips menyusui, bagaimana menjaga kemesraan dengan pasangan, hingga menjaga kesehatan mental sebagai orang tua baru.\\r\\n\\r\\nSemua konten di dalam aplikasi ini berdasarkan ulasan dari dokter dan ahli medis, sehingga kamu bisa tenang dan rileks saat menjalani masa kehamilan dan menjadi orang tua terbaik untuk buah hati.\\r\\n\\r\\n\\r\\n<b>Fitur-fitur utama Diary Bunda:</b>\\r\\n\\r\\n\\ud83e\\udd30\\ud83c\\udffb <b>Pantau kehamilan dan tumbuh kembang anak</b> \\ud83d\\udc76\\ud83c\\udffb\\r\\nDari info perkembangan minggu-ke-minggu selama masa kehamilan hingga tumbuh kembang anak setelah lahir, pantau terus perkembangan setiap anakmu dalam 1 aplikasi.\\r\\n\\r\\n\\ud83d\\udcda <b>Ribuan konten dan artikel terpercaya</b> \\ud83d\\udcd6\\r\\nBaca ribuan artikel seputar kehamilan dan <i>parenting</i> \\u2014 dari bahasan medis hingga gaya hidup \\u2014 yang dipastikan telah ditinjau oleh dokter spesialis dan disajikan tepat waktu berdasarkan perkembangan usia kehamilan dan anak.\\r\\n\\r\\n\\ud83d\\udcac <b>Tanya-jawab dengan dokter spesialis</b> \\ud83d\\udc68\\ud83c\\udffb\\u200d\\u2695\\ufe0f\\r\\nPunya pertanyaan buat dokter? Silakan tanyakan langsung kepada mitra dokter spesialis kami soal kekhawatiran apapun yang sekiranya Bunda miliki seputar kehamilan atau kesehatan ibu dan anak.\\r\\n\\r\\n\\u270f\\ufe0f <b>Catatan harian kehamilan</b> \\ud83e\\udd31\\ud83c\\udffb\\r\\nCatat dan rekam terus perkembangan serta kenangan perjalanan Bunda selama masa kehamilan dalam fitur Catatan Harian yang juga dapat disertai gambar atau foto\\r\\n\\r\\n\\ud83d\\ude4b\\ud83c\\udffb\\u200d\\u2640\\ufe0f <b>Forum komunitas Bunda</b> \\ud83d\\udc81\\ud83c\\udffb\\u200d\\u2640\\ufe0f\\r\\nRuang untuk saling berbagi dengan Bunda lainnya selama masa kehamilan dan tumbuh kembang anak. Dari berbagi pertanyaan, cerita pengalaman, hingga polling.\\r\\n\\r\\n\\r\\nJangan tunggu sampai besok! <i>Download</i> Diary Bunda sekarang juga, dan pastikan perjalanan kehamilan dan menjadi orang tua yang kamu miliki, sehebat dan seindah yang kamu impikan.\\r\\n\\r\\n\\r\\n<b>Let\\u2019s Connect!</b>\\r\\n\\r\\n<b>Instagram:</b> <a href=\\\"https://www.google.com/url?q=https%3A%2F%2Fwww.instagram.com%2Fdiarybundaapp&sa=D&sntz=1&usg=AOvVaw0mnT_Fz1eob0zHgJwvLmUl\\\">diarybundaapp</a>\\r\\n<b>Facebook:</b> <a href=\\\"https://www.google.com/url?q=https%3A%2F%2Fwww.facebook.com%2Fdiarybundaapp&sa=D&sntz=1&usg=AOvVaw3WFVTCtW4XGWPCnf4EWWSm\\\">facebook.com/diarybundaapp</a>\\r\\n<b>Email:</b> <a href=\\\"mailto:feedback@diarybunda.co.id\\\">feedback@diarybunda.co.id</a>\",\n",
      "    \"descriptionHTML\": \"Selamat atas kehamilan kamu, dan selamat datang di Diary Bunda \\u2014 aplikasi kehamilan dan kesehatan ibu dan anak terbaik yang telah dipercayai oleh lebih dari <b>900.000</b> ibu di Indonesia!<br><br>Sebagai ibu hamil, terutama kehamilan pertama, pasti ada banyak pertanyaan dan kebingungan yang bisa membuatmu cemas dan khawatir dengan kesehatanmu dan bayi. Dipercayai oleh ratusan ribu keluarga, Diary Bunda akan menemanimu menjalani hari demi hari masa kehamilanmu sehingga tidak perlu khawatir lagi. Aplikasi kami memberikan informasi tentang berbagai perubahan menarik yang terjadi pada tubuhmu dan bayi yang sedang berkembang di dalam perut ibu.<br><br>Untuk mulai memakai Diary Bunda, kamu hanya perlu memasukkan HPL (hari perkiraan lahir) dan aplikasi ini akan secara otomatis memberikan <i>daily</i> dan <i>weekly updates</i> sesuai dengan pertumbuhan bayi dan ibu, disertai ilustrasi menarik dan cantik. Dapatkan informasi penting tentang kehamilan, dari trik mengatasi <i>morning sickness</i>, panduan nutrisi, mitos dan fakta kehamilan, tips memilih sepatu yang tepat, hingga tips agar bisa tidur nyenyak saat perut sebesar semangka.<br><br>Ketika bayi sudah lahir, aplikasi ini akan secara otomatis berubah menjadi panduan <i>parenting</i> yang akan membantumu menjalani peran sebagai orang tua. Temukan berbagai informasi penting mulai dari proses pemulihan persalinan, <i>milestones</i> anak, tips makanan, tips menyusui, bagaimana menjaga kemesraan dengan pasangan, hingga menjaga kesehatan mental sebagai orang tua baru.<br><br>Semua konten di dalam aplikasi ini berdasarkan ulasan dari dokter dan ahli medis, sehingga kamu bisa tenang dan rileks saat menjalani masa kehamilan dan menjadi orang tua terbaik untuk buah hati.<br><br><br><b>Fitur-fitur utama Diary Bunda:</b><br><br>\\ud83e\\udd30\\ud83c\\udffb <b>Pantau kehamilan dan tumbuh kembang anak</b> \\ud83d\\udc76\\ud83c\\udffb<br>Dari info perkembangan minggu-ke-minggu selama masa kehamilan hingga tumbuh kembang anak setelah lahir, pantau terus perkembangan setiap anakmu dalam 1 aplikasi.<br><br>\\ud83d\\udcda <b>Ribuan konten dan artikel terpercaya</b> \\ud83d\\udcd6<br>Baca ribuan artikel seputar kehamilan dan <i>parenting</i> \\u2014 dari bahasan medis hingga gaya hidup \\u2014 yang dipastikan telah ditinjau oleh dokter spesialis dan disajikan tepat waktu berdasarkan perkembangan usia kehamilan dan anak.<br><br>\\ud83d\\udcac <b>Tanya-jawab dengan dokter spesialis</b> \\ud83d\\udc68\\ud83c\\udffb\\u200d\\u2695\\ufe0f<br>Punya pertanyaan buat dokter? Silakan tanyakan langsung kepada mitra dokter spesialis kami soal kekhawatiran apapun yang sekiranya Bunda miliki seputar kehamilan atau kesehatan ibu dan anak.<br><br>\\u270f\\ufe0f <b>Catatan harian kehamilan</b> \\ud83e\\udd31\\ud83c\\udffb<br>Catat dan rekam terus perkembangan serta kenangan perjalanan Bunda selama masa kehamilan dalam fitur Catatan Harian yang juga dapat disertai gambar atau foto<br><br>\\ud83d\\ude4b\\ud83c\\udffb\\u200d\\u2640\\ufe0f <b>Forum komunitas Bunda</b> \\ud83d\\udc81\\ud83c\\udffb\\u200d\\u2640\\ufe0f<br>Ruang untuk saling berbagi dengan Bunda lainnya selama masa kehamilan dan tumbuh kembang anak. Dari berbagi pertanyaan, cerita pengalaman, hingga polling.<br><br><br>Jangan tunggu sampai besok! <i>Download</i> Diary Bunda sekarang juga, dan pastikan perjalanan kehamilan dan menjadi orang tua yang kamu miliki, sehebat dan seindah yang kamu impikan.<br><br><br><b>Let\\u2019s Connect!</b><br><br><b>Instagram:</b> <a href=\\\"https://www.google.com/url?q=https%3A%2F%2Fwww.instagram.com%2Fdiarybundaapp&amp;sa=D&amp;sntz=1&amp;usg=AOvVaw0mnT_Fz1eob0zHgJwvLmUl\\\">diarybundaapp</a><br><b>Facebook:</b> <a href=\\\"https://www.google.com/url?q=https%3A%2F%2Fwww.facebook.com%2Fdiarybundaapp&amp;sa=D&amp;sntz=1&amp;usg=AOvVaw3WFVTCtW4XGWPCnf4EWWSm\\\">facebook.com/diarybundaapp</a><br><b>Email:</b> <a href=\\\"mailto:feedback@diarybunda.co.id\\\">feedback@diarybunda.co.id</a>\",\n",
      "    \"summary\": \"Aplikasi kehamilan dan parenting terpercaya yang didukung ahli medis\",\n",
      "    \"installs\": \"1.000.000+\",\n",
      "    \"minInstalls\": 1000000,\n",
      "    \"realInstalls\": 1197519,\n",
      "    \"score\": 4.764905,\n",
      "    \"ratings\": 14803,\n",
      "    \"reviews\": 1864,\n",
      "    \"histogram\": [\n",
      "        139,\n",
      "        89,\n",
      "        360,\n",
      "        1924,\n",
      "        12285\n",
      "    ],\n",
      "    \"price\": 0,\n",
      "    \"free\": true,\n",
      "    \"currency\": \"IDR\",\n",
      "    \"sale\": false,\n",
      "    \"saleTime\": null,\n",
      "    \"originalPrice\": null,\n",
      "    \"saleText\": null,\n",
      "    \"offersIAP\": false,\n",
      "    \"inAppProductPrice\": null,\n",
      "    \"developer\": \"Alodokter Group\",\n",
      "    \"developerId\": \"Alodokter+Group\",\n",
      "    \"developerEmail\": \"feedback@diarybunda.co.id\",\n",
      "    \"developerWebsite\": \"https://diarybunda.co.id/\",\n",
      "    \"developerAddress\": \"Gedung Rifa ,Blok C4 Kav. 6-7, Jl. Prof. DR. Satrio\\nJakarta\\nIndonesia\",\n",
      "    \"privacyPolicy\": \"https://diarybunda.notion.site/Diary-Bunda-Kebijakan-Privasi-9ab22de5dc9243dfa0fc540e48ff6174\",\n",
      "    \"genre\": \"Tumbuh Kembang Anak\",\n",
      "    \"genreId\": \"PARENTING\",\n",
      "    \"categories\": [\n",
      "        {\n",
      "            \"name\": \"Tumbuh Kembang Anak\",\n",
      "            \"id\": \"PARENTING\"\n",
      "        }\n",
      "    ],\n",
      "    \"icon\": \"https://play-lh.googleusercontent.com/qEfAJo0fz8Atd4CNdmlz32aD41FKVxJbbQRRwWWyL5FbCrE9o2uDH0cSFVQDcy4CaQ\",\n",
      "    \"headerImage\": \"https://play-lh.googleusercontent.com/esT0SWpok5cjukOe8f003URNAWSqtJZR0OXINPBspLONQrth3xv0wVbuCeXZU_MJmA\",\n",
      "    \"screenshots\": [\n",
      "        \"https://play-lh.googleusercontent.com/-A0e2DDmAjb2R6uJ9yn-XJMyimYWoX9zoT_n1Q69wfZpgov5nVlcqPb8iLIAWNxvZ1pI\",\n",
      "        \"https://play-lh.googleusercontent.com/D2EzPrO1-ePFGx9dKXzFr_xCuFczJPHUL7s2UdYznVjeq5scEYj2hlufI4vF196t5Bs\",\n",
      "        \"https://play-lh.googleusercontent.com/oNMrlvrFCLuZuS5ce2Ooh4Eu1ZQWiZpzRQztkwgntPYWMWkhLamWenJ-UJel29zOrMs\",\n",
      "        \"https://play-lh.googleusercontent.com/77Eda25jinMyuBubnZAuJ3gR1a8HoFsY6cZccO0bNvOcFdZAj2_DkdFgJOM3m_vc3g\",\n",
      "        \"https://play-lh.googleusercontent.com/0mZlDQBVrz46_apRQ8O2ikgTZSqUrxcpSLP9zOZkPQr1lyklxP9_oWJWN7YpdSRzoLI\",\n",
      "        \"https://play-lh.googleusercontent.com/MAItzVI5NkEF0W4_rTTEZmM5DRolIM3VcpFJNIKO3F6GGzYcp5UrBU1zFtfU9dc1vD9Z\"\n",
      "    ],\n",
      "    \"video\": null,\n",
      "    \"videoImage\": null,\n",
      "    \"contentRating\": \"Rating 3+\",\n",
      "    \"contentRatingDescription\": null,\n",
      "    \"adSupported\": true,\n",
      "    \"containsAds\": true,\n",
      "    \"released\": \"29 Jul 2019\",\n",
      "    \"lastUpdatedOn\": \"17 Sep 2024\",\n",
      "    \"updated\": 1726640647,\n",
      "    \"version\": \"4.2.1\",\n",
      "    \"comments\": [],\n",
      "    \"appId\": \"com.diarybunda\",\n",
      "    \"url\": \"https://play.google.com/store/apps/details?id=com.diarybunda&hl=id&gl=id\"\n",
      "}\n"
     ]
    }
   ],
   "source": [
    "print(json.dumps(app_info, indent=4))"
   ]
  },
  {
   "cell_type": "code",
   "execution_count": 17,
   "metadata": {},
   "outputs": [],
   "source": [
    "infoApp_diarybunda = pd.DataFrame([app_info])\n",
    "infoApp_diarybunda = infoApp_diarybunda[[\"title\", \"summary\", \"realInstalls\", \"score\", \"ratings\", \"reviews\", \"free\"]]"
   ]
  },
  {
   "cell_type": "markdown",
   "metadata": {},
   "source": [
    "### App Reviews"
   ]
  },
  {
   "cell_type": "code",
   "execution_count": 18,
   "metadata": {},
   "outputs": [
    {
     "name": "stdout",
     "output_type": "stream",
     "text": [
      "Total review ID scraped: 400\n",
      "Total review ID scraped: 600\n",
      "Total review ID scraped: 800\n",
      "Total review ID scraped: 1000\n",
      "Total review ID scraped: 1200\n",
      "Total review ID scraped: 1400\n",
      "Total review ID scraped: 1600\n",
      "Total review ID scraped: 1750\n"
     ]
    }
   ],
   "source": [
    "total_reviews = 1864 \n",
    "\n",
    "result, continuation_token = reviews(\n",
    "  'com.diarybunda',\n",
    "  lang = 'id',\n",
    "  country = 'id',\n",
    "  sort = Sort.NEWEST,\n",
    "  count = 200,\n",
    "  filter_score_with = None\n",
    ")\n",
    "\n",
    "if len(result) >= 200 and continuation_token:\n",
    "  while len(result) < total_reviews:\n",
    "    more_result, continuation_token = reviews(\n",
    "      'com.diarybunda',\n",
    "      continuation_token = continuation_token\n",
    "    )\n",
    "    \n",
    "    if not more_result:\n",
    "      break\n",
    "    \n",
    "    result.extend(more_result)\n",
    "    print(f\"Total review ID scraped: {len(result)}\")"
   ]
  },
  {
   "cell_type": "code",
   "execution_count": 19,
   "metadata": {},
   "outputs": [],
   "source": [
    "df_id = pd.DataFrame(result)"
   ]
  },
  {
   "cell_type": "code",
   "execution_count": 20,
   "metadata": {},
   "outputs": [
    {
     "name": "stdout",
     "output_type": "stream",
     "text": [
      "Total review EN scraped: 123\n"
     ]
    }
   ],
   "source": [
    "total_reviews = 1864 \n",
    "\n",
    "result, continuation_token = reviews(\n",
    "  'com.diarybunda',\n",
    "  lang = 'en',\n",
    "  country = 'id',\n",
    "  sort = Sort.NEWEST,\n",
    "  count = 200,\n",
    "  filter_score_with = None\n",
    ")\n",
    "print(f\"Total review EN scraped: {len(result)}\")\n",
    "\n",
    "if len(result) >= 200 and continuation_token:\n",
    "  while len(result) < total_reviews:\n",
    "    more_result, continuation_token = reviews(\n",
    "      'com.diarybunda',\n",
    "      continuation_token = continuation_token\n",
    "    )\n",
    "    \n",
    "    if not more_result:\n",
    "      break\n",
    "    \n",
    "    result.extend(more_result)\n",
    "    print(f\"Total review EN scraped: {len(result)}\")"
   ]
  },
  {
   "cell_type": "code",
   "execution_count": 21,
   "metadata": {},
   "outputs": [],
   "source": [
    "df_en = pd.DataFrame(result)"
   ]
  },
  {
   "cell_type": "code",
   "execution_count": 22,
   "metadata": {},
   "outputs": [
    {
     "data": {
      "text/plain": [
       "(1873, 11)"
      ]
     },
     "execution_count": 22,
     "metadata": {},
     "output_type": "execute_result"
    }
   ],
   "source": [
    "dfApp_diarybunda = pd.concat([df_id, df_en], axis=0, ignore_index= True)\n",
    "dfApp_diarybunda.shape"
   ]
  },
  {
   "cell_type": "code",
   "execution_count": 23,
   "metadata": {},
   "outputs": [],
   "source": [
    "dfApp_diarybunda = dfApp_diarybunda[['reviewId', 'content', 'score', 'at','replyContent', 'appVersion']]\n",
    "dfApp_diarybunda[\"application\"] = \"Diary Bunda\""
   ]
  },
  {
   "cell_type": "markdown",
   "metadata": {},
   "source": [
    "## Asian Parent"
   ]
  },
  {
   "cell_type": "markdown",
   "metadata": {},
   "source": [
    "### App Info"
   ]
  },
  {
   "cell_type": "code",
   "execution_count": 24,
   "metadata": {},
   "outputs": [],
   "source": [
    "app_info = app(\n",
    "  'com.tickledmedia.ParentTown',\n",
    "  country = 'id'\n",
    ")"
   ]
  },
  {
   "cell_type": "code",
   "execution_count": 25,
   "metadata": {},
   "outputs": [
    {
     "name": "stdout",
     "output_type": "stream",
     "text": [
      "{\n",
      "    \"title\": \"Asianparent: Kehamilan & Bayi\",\n",
      "    \"description\": \"Aplikasi ibu hamil dan perkembangan bayi & parenting app theAsianparent hadir untuk menemani mengasuh anak, perkembangan janin dan bayi, mulai dari menghitung usia kehamilan hingga bayi lahir. theAsianparent siap bantu bumil menikmati masa kehamilan hingga menjalani peran menjadi orang tua!\\r\\n\\r\\nMemantau perkembangan janin dan bayi saat lahir, theAsianparent parenting app memiliki fitur lengkap pelacak kehamilan untuk para bumil, bunda dan ayah. Selain perkembangan bayi, aplikasi theAsianparent adalah aplikasi kehamilan akurat untuk pantau perkembangan janin dan bayi, hingga menghitung usia kandungan ibu hamil. Di sini, Parents bisa mendapatkan support yang Parents butuhkan.\\r\\n\\r\\nSelain kesehatan anak, dan perkembangan janin dan bayi, aplikasi ibu hamil dan perkembangan bayi theAsianparent membantu Anda memastikan kehamilan yang bahagia dan sehat. Catat hasil tes kehamilan Anda, waktu ovulasi, siklus haid dan lainnya dengan kalender pada pemantau kehamilan kami dengan memanfaatkan fitur track my pregnancy.\\r\\n\\r\\nSetelah kelahiran, aplikasi ibu hamil dan perkembangan bayi theAsianparent parenting app masih akan menjadi sahabat terbaik Anda untuk memantau tumbuh kembang anak.\\r\\n\\r\\nUntuk perkembangan bayi dan kehamilan sehat, di theAsianparent pregnancy app Anda bisa bertanya seputar perkembangan janin dan bayi dan kehamilan di komunitas dan forum khusus ibu hamil dan Parents dalam aplikasi kehamilan terbaik dan bayi theAsianparent. Cek perkembangan bayi lewat hp melalui theAsianparent aplikasi kehamilan akurat dan kehamilan dan bayi apps.\\r\\n\\r\\nKesehatan perkembangan janin dan bayi usia 6-11 bulan dan 1 tahun keatas, aplikasi hamil terbaik dan bayi pregnancy app theAsianparent menyediakan informasi lengkap parenting serta ibu dan bayi; mulai dari kesehatan, nutrisi, produk ibu dan banyak lagi. Gunakan the Asianparent pelacak kesehatan ibu hamil dalam memantau kandungan Anda.\\r\\nFitur aplikasi kehamilan & bayi theAsianparent pregnancy apps:\\r\\n\\r\\nPELACAK PERKEMBANGAN UNTUK BAYI\\r\\n- Pelacak perkembangan bayi: Lacak pertumbuhan dan pencapaiannya setiap hari hingga usia 7 tahun\\r\\n- Pelacak makanan bayi & takaran susu bayi: Lacak frekuensi menyusui, pemberian susu botol, dan pemompaan\\r\\n- Lacak jam tidur bayi: Pantau pola tidur untuk kesehatan bayi\\r\\n- Melacak warna pipis dan popok bayi: Pantau warna pipis bayi normal dan hitung frekuensi penggunaan popok\\r\\n\\r\\nKALENDER HAMIL & PELACAK PERKEMBANGAN JANIN DAN BAYI\\r\\n- Pantau kesehatan detak jantung janin lewat HP\\r\\n- Kalender kehamilan: dengan aplikasi kehamilan akurat theAsianparent, menghitung usia kehamilan, hasil tes kehamilan, dan ketahui apa yang diharapkan dari hari ke hari, mulai dari peringatan rasa sakit dan nyeri, serta kegembiraan dalam pemantau kehamilan!\\r\\n\\r\\nKOMUNITAS KHUSUS IBU HAMIL & ORANGTUA\\r\\n- Komunitas khusus orang tua bayi: bertanya seputar anak dan kehamilan dalam theAsianparent, aplikasi ibu hamil dan bayi seputar anak, kehamilan & perkembangan bayi, menyusui, ovulasi, dan lainnya.\\r\\n- Bunda atau ayah, Anda dapat membagikan perjalanan mengasuh anak Anda dengan komunitas dan menawarkan pengalaman Anda untuk membantu orang lain.\\r\\n\\r\\nARTIKEL PARENTING\\r\\n- Artikel parenting yang penuh dengan tips bermanfaat\\r\\n- Dari produk ibu hingga perkembangan bayi, setiap bunda dapat menemukan artikel yang akan membuat mereka sibuk selama berjam-jam.\\r\\n\\r\\nTEMUKAN MAKANAN & RESEP YANG AMAN & LEZAT\\r\\n- Temukan resep untuk bayi dan anak Anda dalam setiap tahap menjadi ibu dalam aplikasi ibu hamil & asian parenting app theAsianparent.\\r\\n\\r\\nHITUNG TENDANGAN BAYI DALAM MASA KEHAMILAN\\r\\n- Saat hamil, lacak gerakan bayi Anda dan rekam dengan penghitung tendangan bayi baru kami.\\r\\n\\r\\nIKUT KONTES & MENANGKAN HADIAH\\r\\n- Bergabunglah dalam kontes di aplikasi kami & menangkan hadiahnya!\\r\\n\\r\\nDi dalam aplikasi hamil dan tumbuh kembang theAsianparent, terdapat komunitas khusus orang tua yang percaya bahwa semua orang berhak memiliki akses untuk kehamilan yang sehat dan pengalaman mengasuh anak.\",\n",
      "    \"descriptionHTML\": \"Aplikasi ibu hamil dan perkembangan bayi &amp; parenting app theAsianparent hadir untuk menemani mengasuh anak, perkembangan janin dan bayi, mulai dari menghitung usia kehamilan hingga bayi lahir. theAsianparent siap bantu bumil menikmati masa kehamilan hingga menjalani peran menjadi orang tua!<br><br>Memantau perkembangan janin dan bayi saat lahir, theAsianparent parenting app memiliki fitur lengkap pelacak kehamilan untuk para bumil, bunda dan ayah. Selain perkembangan bayi, aplikasi theAsianparent adalah aplikasi kehamilan akurat untuk pantau perkembangan janin dan bayi, hingga menghitung usia kandungan ibu hamil. Di sini, Parents bisa mendapatkan support yang Parents butuhkan.<br><br>Selain kesehatan anak, dan perkembangan janin dan bayi, aplikasi ibu hamil dan perkembangan bayi theAsianparent membantu Anda memastikan kehamilan yang bahagia dan sehat. Catat hasil tes kehamilan Anda, waktu ovulasi, siklus haid dan lainnya dengan kalender pada pemantau kehamilan kami dengan memanfaatkan fitur track my pregnancy.<br><br>Setelah kelahiran, aplikasi ibu hamil dan perkembangan bayi theAsianparent parenting app masih akan menjadi sahabat terbaik Anda untuk memantau tumbuh kembang anak.<br><br>Untuk perkembangan bayi dan kehamilan sehat, di theAsianparent pregnancy app Anda bisa bertanya seputar perkembangan janin dan bayi dan kehamilan di komunitas dan forum khusus ibu hamil dan Parents dalam aplikasi kehamilan terbaik dan bayi theAsianparent. Cek perkembangan bayi lewat hp melalui theAsianparent aplikasi kehamilan akurat dan kehamilan dan bayi apps.<br><br>Kesehatan perkembangan janin dan bayi usia 6-11 bulan dan 1 tahun keatas, aplikasi hamil terbaik dan bayi pregnancy app theAsianparent menyediakan informasi lengkap parenting serta ibu dan bayi; mulai dari kesehatan, nutrisi, produk ibu dan banyak lagi. Gunakan the Asianparent pelacak kesehatan ibu hamil dalam memantau kandungan Anda.<br>Fitur aplikasi kehamilan &amp; bayi theAsianparent pregnancy apps:<br><br>PELACAK PERKEMBANGAN UNTUK BAYI<br>- Pelacak perkembangan bayi: Lacak pertumbuhan dan pencapaiannya setiap hari hingga usia 7 tahun<br>- Pelacak makanan bayi &amp; takaran susu bayi: Lacak frekuensi menyusui, pemberian susu botol, dan pemompaan<br>- Lacak jam tidur bayi: Pantau pola tidur untuk kesehatan bayi<br>- Melacak warna pipis dan popok bayi: Pantau warna pipis bayi normal dan hitung frekuensi penggunaan popok<br><br>KALENDER HAMIL &amp; PELACAK PERKEMBANGAN JANIN DAN BAYI<br>- Pantau kesehatan detak jantung janin lewat HP<br>- Kalender kehamilan: dengan aplikasi kehamilan akurat theAsianparent, menghitung usia kehamilan, hasil tes kehamilan, dan ketahui apa yang diharapkan dari hari ke hari, mulai dari peringatan rasa sakit dan nyeri, serta kegembiraan dalam pemantau kehamilan!<br><br>KOMUNITAS KHUSUS IBU HAMIL &amp; ORANGTUA<br>- Komunitas khusus orang tua bayi: bertanya seputar anak dan kehamilan dalam theAsianparent, aplikasi ibu hamil dan bayi seputar anak, kehamilan &amp; perkembangan bayi, menyusui, ovulasi, dan lainnya.<br>- Bunda atau ayah, Anda dapat membagikan perjalanan mengasuh anak Anda dengan komunitas dan menawarkan pengalaman Anda untuk membantu orang lain.<br><br>ARTIKEL PARENTING<br>- Artikel parenting yang penuh dengan tips bermanfaat<br>- Dari produk ibu hingga perkembangan bayi, setiap bunda dapat menemukan artikel yang akan membuat mereka sibuk selama berjam-jam.<br><br>TEMUKAN MAKANAN &amp; RESEP YANG AMAN &amp; LEZAT<br>- Temukan resep untuk bayi dan anak Anda dalam setiap tahap menjadi ibu dalam aplikasi ibu hamil &amp; asian parenting app theAsianparent.<br><br>HITUNG TENDANGAN BAYI DALAM MASA KEHAMILAN<br>- Saat hamil, lacak gerakan bayi Anda dan rekam dengan penghitung tendangan bayi baru kami.<br><br>IKUT KONTES &amp; MENANGKAN HADIAH<br>- Bergabunglah dalam kontes di aplikasi kami &amp; menangkan hadiahnya!<br><br>Di dalam aplikasi hamil dan tumbuh kembang theAsianparent, terdapat komunitas khusus orang tua yang percaya bahwa semua orang berhak memiliki akses untuk kehamilan yang sehat dan pengalaman mengasuh anak.\",\n",
      "    \"summary\": \"Pantau Kehamilan, Bayi & Anak, dan Gabung di Komunitas Parenting Terbesar!\",\n",
      "    \"installs\": \"10,000,000+\",\n",
      "    \"minInstalls\": 10000000,\n",
      "    \"realInstalls\": 10061480,\n",
      "    \"score\": 4.8479943,\n",
      "    \"ratings\": 339716,\n",
      "    \"reviews\": 56365,\n",
      "    \"histogram\": [\n",
      "        4106,\n",
      "        2167,\n",
      "        4583,\n",
      "        19532,\n",
      "        309320\n",
      "    ],\n",
      "    \"price\": 0,\n",
      "    \"free\": true,\n",
      "    \"currency\": \"IDR\",\n",
      "    \"sale\": false,\n",
      "    \"saleTime\": null,\n",
      "    \"originalPrice\": null,\n",
      "    \"saleText\": null,\n",
      "    \"offersIAP\": false,\n",
      "    \"inAppProductPrice\": null,\n",
      "    \"developer\": \"theAsianparent - largest pregnancy & parenting app\",\n",
      "    \"developerId\": \"theAsianparent+-+largest+pregnancy+%26+parenting+app\",\n",
      "    \"developerEmail\": \"developer@tickledmedia.com\",\n",
      "    \"developerWebsite\": \"https://community.theasianparent.com/\",\n",
      "    \"developerAddress\": \"theAsianparent, Asian Parent, TAP, Singapore, Indonesia, Philippines, Thailand, Malaysia. From pregnancy week by week, pregnancy tracker, pregnancy food and nutrition, pregnancy checklist to baby names to parenting newborn baby care, baby development, baby milestones, breastfeeding tips, baby vaccination, baby growth, baby food recipes, baby photos with photo stickers, baby health to pregnancy tips for normal delivery, morning sickness tips, pregnancy calendar, pregnancy exercises, baby movements, bump size, pregnancy kicks, labour pain, baby care tips, parenting tips, parenting community of 13 million across Southeast Asia, including Indonesia having Bumil, Busui, Ibu menyusui, Ibu hamil, Menyusui, Kehamilan, Aplikasi kehamilan, Aplikasi bayi, Editor foto bayi, Kalender kehamilan, Hari perkiraan lahir, Makanan ibu hamil.\",\n",
      "    \"privacyPolicy\": \"https://community.theasianparent.com/privacy\",\n",
      "    \"genre\": \"Parenting\",\n",
      "    \"genreId\": \"PARENTING\",\n",
      "    \"categories\": [\n",
      "        {\n",
      "            \"name\": \"Parenting\",\n",
      "            \"id\": \"PARENTING\"\n",
      "        }\n",
      "    ],\n",
      "    \"icon\": \"https://play-lh.googleusercontent.com/u2Pz46yWb0H_tN2d7O5okxtJUsgudtARjsK2W2IJBPTxBddebDH-znq3ncPolHOIxt1z\",\n",
      "    \"headerImage\": \"https://play-lh.googleusercontent.com/XlrVv_XuJfpYtRSg5Y87hX42OHyj1j2nmQcmHAZA97oddWcA7vLPgtdW0gIfp2fsxY0\",\n",
      "    \"screenshots\": [\n",
      "        \"https://play-lh.googleusercontent.com/l9cK7pEFJ3gP4ysdYyR4VAzraj8T9UklxrAv0UP3dSBmu_XfMDPHsXuS_cmcyliXg7A\",\n",
      "        \"https://play-lh.googleusercontent.com/W2_ZZybcVEYr9Kg0ipjTn-VkN3VFyOxzm8zJX8V3gt1nvnE1XeKSJd4Iqj1dGajXyw\",\n",
      "        \"https://play-lh.googleusercontent.com/pkg9-MDjZkpL1ialLU8aE3dq-ki-a1mBY9SYQokST2DE9p9hcpxwZ4o99b36YJnNIkM\",\n",
      "        \"https://play-lh.googleusercontent.com/1XcD3k2FAL0bMtOqNInuf_nThnPveKuHVw6Afy3WMp2p4S9ri3TJ1brgN9NPoNugFzLS\",\n",
      "        \"https://play-lh.googleusercontent.com/y8kgQ7QvUTNBv_bZ4lMbC_5P2psJHkZAaChDH2prKRNB2QAKQWtHQnjNiFb_VeW2L2A\",\n",
      "        \"https://play-lh.googleusercontent.com/U-UnqmIsehLfHd0ueMca_zyIXqH13oe8WRcWFPMjyO8n3HtF9vA3ILvh35lI6r4x-wo\",\n",
      "        \"https://play-lh.googleusercontent.com/QdMoKz4zyJQNVgmkm0W8ezYhhwJvhXsKhdA9SRdtaROYF_0M_gpn_A_4_MPs9rXEVCE\",\n",
      "        \"https://play-lh.googleusercontent.com/vwSg9FAM-RuW2RjPCCHYgWMI6t39Uo9qa4ybcg5wxssFEcWrVmA8dbO7-0SrhpFYRsk\",\n",
      "        \"https://play-lh.googleusercontent.com/zeY3ux20bi-snqW0DENXqK8zJuR2g2_1Pj6FFX3g4H0s2m-NZNNPj27izwif3R66X8M\",\n",
      "        \"https://play-lh.googleusercontent.com/8wad7dgcSTKiF-AuloBIoThMtsI7PsQpmdV8Y1DPQmByvS-S6GCQJFSljyTujJes-XM\",\n",
      "        \"https://play-lh.googleusercontent.com/EIWdvaYWfyNdxd5pNyDISFd6I0p633zymfZnh9vD1KVMT1ANfnNDcCTsYE4CBI3iMJc\",\n",
      "        \"https://play-lh.googleusercontent.com/bolgEl6TGFzJVW2FyVzUJU6URFW335UVNqFI-AWqLwO0FElwRu3WDG01F6kaRs0rUA\",\n",
      "        \"https://play-lh.googleusercontent.com/qEVkJqTr40R7XNzns39FS7cF-8IQveDG5v3Q4URDePXmkUElyzyt96o7rUQIfv2sn10\",\n",
      "        \"https://play-lh.googleusercontent.com/u7ox0yau2k5KgqzeY-SW_MEg6mvui2VADfYM-Vhx1uV3JuNgQHBCHQit2L9zFiPVPRM\",\n",
      "        \"https://play-lh.googleusercontent.com/eQs-cHW9HsjAstARKatpMbS_POxPZ1hrvdE3ONeL849w5NFr0jCMQ7nyy9aLj60bnzqe\",\n",
      "        \"https://play-lh.googleusercontent.com/VklYp4dRRXiOgnMM0SNCYrH3RydfNi-9gTEx7mJfpuHNwcI-1HdX6jz6CuWNWwlrCqM\",\n",
      "        \"https://play-lh.googleusercontent.com/mUboUfOYo6SUt3AQDSzm0hwVSTWOSjJ5ekvtN1E5KKWDpSVJf4mSFVc1MmEnBuVko18\",\n",
      "        \"https://play-lh.googleusercontent.com/--QIg1KR8x8dq6YXVTIGqHHBc5-BxC9GnMaSPEgXpRvh3zbwmCmsx_-ASIf6RjEMsHsI\",\n",
      "        \"https://play-lh.googleusercontent.com/-pokc2cE6FQ4s1dk8CbHKnXeKIgxDYS_N3BoUmUlfdALhqIaaExVmUfoVJ-6abYvmOQ\",\n",
      "        \"https://play-lh.googleusercontent.com/W-4rSccohK40nsEEVYz9E3d_cJ_-W3i8jYQqtz0KeE40h7ZB1_O8gZO1guD54UDu5w\",\n",
      "        \"https://play-lh.googleusercontent.com/oFO-AvMlenXDWw_zWWz8HIemwcOeAsrjht1Fiehm88U6Aa0s6Z6QFpUxULEmu_In0LY\",\n",
      "        \"https://play-lh.googleusercontent.com/2OMz4FaWAzjj3YIXQSSuyQY5qBftJp--pj51B5fK5ovvDcP-wQ1JGAfJ1UZVam6uJXOf\",\n",
      "        \"https://play-lh.googleusercontent.com/HTA0WFvQYhS2KNp3kff0Iu9H8aXHYDGSjLHl1gCIp2_BtWFOCKxAffG3K6gO1g3l1lKh\",\n",
      "        \"https://play-lh.googleusercontent.com/4jwuOaIYuigkNLpg64rL7xIin-LH-RLCxFvjk4xcACpKjr8lzxPBswBiPLDqmwuybCQ\"\n",
      "    ],\n",
      "    \"video\": \"https://www.youtube.com/embed/4tZGINAjO_g?ps=play&vq=large&rel=0&autohide=1&showinfo=0\",\n",
      "    \"videoImage\": \"https://play-lh.googleusercontent.com/XlrVv_XuJfpYtRSg5Y87hX42OHyj1j2nmQcmHAZA97oddWcA7vLPgtdW0gIfp2fsxY0\",\n",
      "    \"contentRating\": \"Rated for 12+\",\n",
      "    \"contentRatingDescription\": \"Parental Guidance Recommended\",\n",
      "    \"adSupported\": false,\n",
      "    \"containsAds\": false,\n",
      "    \"released\": \"May 1, 2016\",\n",
      "    \"lastUpdatedOn\": \"Jan 29, 2025\",\n",
      "    \"updated\": 1738208865,\n",
      "    \"version\": \"3.0.16\",\n",
      "    \"comments\": [],\n",
      "    \"appId\": \"com.tickledmedia.ParentTown\",\n",
      "    \"url\": \"https://play.google.com/store/apps/details?id=com.tickledmedia.ParentTown&hl=en&gl=id\"\n",
      "}\n"
     ]
    }
   ],
   "source": [
    "print(json.dumps(app_info, indent=4))"
   ]
  },
  {
   "cell_type": "code",
   "execution_count": 26,
   "metadata": {},
   "outputs": [],
   "source": [
    "infoApp_asianparent = pd.DataFrame([app_info])\n",
    "infoApp_asianparent = infoApp_asianparent[[\"title\", \"summary\", \"realInstalls\", \"score\", \"ratings\", \"reviews\", \"free\"]]"
   ]
  },
  {
   "cell_type": "markdown",
   "metadata": {},
   "source": [
    "### App Reviews"
   ]
  },
  {
   "cell_type": "code",
   "execution_count": 27,
   "metadata": {},
   "outputs": [
    {
     "name": "stdout",
     "output_type": "stream",
     "text": [
      "Total review ID scraped: 200\n",
      "Total review ID scraped: 400\n",
      "Total review ID scraped: 600\n",
      "Total review ID scraped: 800\n",
      "Total review ID scraped: 1000\n",
      "Total review ID scraped: 1200\n",
      "Total review ID scraped: 1400\n",
      "Total review ID scraped: 1600\n",
      "Total review ID scraped: 1800\n",
      "Total review ID scraped: 2000\n",
      "Total review ID scraped: 2200\n",
      "Total review ID scraped: 2400\n",
      "Total review ID scraped: 2600\n",
      "Total review ID scraped: 2800\n",
      "Total review ID scraped: 3000\n",
      "Total review ID scraped: 3200\n",
      "Total review ID scraped: 3400\n",
      "Total review ID scraped: 3600\n",
      "Total review ID scraped: 3800\n",
      "Total review ID scraped: 4000\n",
      "Total review ID scraped: 4200\n",
      "Total review ID scraped: 4400\n",
      "Total review ID scraped: 4600\n",
      "Total review ID scraped: 4800\n",
      "Total review ID scraped: 5000\n",
      "Total review ID scraped: 5200\n",
      "Total review ID scraped: 5400\n",
      "Total review ID scraped: 5600\n",
      "Total review ID scraped: 5800\n",
      "Total review ID scraped: 6000\n",
      "Total review ID scraped: 6200\n",
      "Total review ID scraped: 6400\n",
      "Total review ID scraped: 6600\n",
      "Total review ID scraped: 6800\n",
      "Total review ID scraped: 7000\n",
      "Total review ID scraped: 7200\n",
      "Total review ID scraped: 7400\n",
      "Total review ID scraped: 7600\n",
      "Total review ID scraped: 7800\n",
      "Total review ID scraped: 8000\n",
      "Total review ID scraped: 8200\n",
      "Total review ID scraped: 8400\n",
      "Total review ID scraped: 8600\n",
      "Total review ID scraped: 8800\n",
      "Total review ID scraped: 9000\n",
      "Total review ID scraped: 9200\n",
      "Total review ID scraped: 9400\n",
      "Total review ID scraped: 9600\n",
      "Total review ID scraped: 9800\n",
      "Total review ID scraped: 10000\n",
      "Total review ID scraped: 10200\n",
      "Total review ID scraped: 10400\n",
      "Total review ID scraped: 10600\n",
      "Total review ID scraped: 10800\n",
      "Total review ID scraped: 11000\n",
      "Total review ID scraped: 11200\n",
      "Total review ID scraped: 11400\n",
      "Total review ID scraped: 11600\n",
      "Total review ID scraped: 11800\n",
      "Total review ID scraped: 12000\n",
      "Total review ID scraped: 12200\n",
      "Total review ID scraped: 12400\n",
      "Total review ID scraped: 12600\n",
      "Total review ID scraped: 12800\n",
      "Total review ID scraped: 13000\n",
      "Total review ID scraped: 13200\n",
      "Total review ID scraped: 13400\n",
      "Total review ID scraped: 13600\n",
      "Total review ID scraped: 13800\n",
      "Total review ID scraped: 14000\n",
      "Total review ID scraped: 14200\n",
      "Total review ID scraped: 14400\n",
      "Total review ID scraped: 14600\n",
      "Total review ID scraped: 14800\n",
      "Total review ID scraped: 15000\n",
      "Total review ID scraped: 15200\n",
      "Total review ID scraped: 15400\n",
      "Total review ID scraped: 15600\n",
      "Total review ID scraped: 15800\n",
      "Total review ID scraped: 16000\n",
      "Total review ID scraped: 16200\n",
      "Total review ID scraped: 16400\n",
      "Total review ID scraped: 16600\n",
      "Total review ID scraped: 16800\n",
      "Total review ID scraped: 17000\n",
      "Total review ID scraped: 17200\n",
      "Total review ID scraped: 17400\n",
      "Total review ID scraped: 17600\n",
      "Total review ID scraped: 17800\n",
      "Total review ID scraped: 18000\n",
      "Total review ID scraped: 18200\n",
      "Total review ID scraped: 18400\n",
      "Total review ID scraped: 18600\n",
      "Total review ID scraped: 18800\n",
      "Total review ID scraped: 19000\n",
      "Total review ID scraped: 19200\n",
      "Total review ID scraped: 19400\n",
      "Total review ID scraped: 19600\n",
      "Total review ID scraped: 19800\n",
      "Total review ID scraped: 20000\n",
      "Total review ID scraped: 20200\n",
      "Total review ID scraped: 20400\n",
      "Total review ID scraped: 20600\n",
      "Total review ID scraped: 20800\n",
      "Total review ID scraped: 21000\n",
      "Total review ID scraped: 21200\n",
      "Total review ID scraped: 21400\n",
      "Total review ID scraped: 21600\n",
      "Total review ID scraped: 21800\n",
      "Total review ID scraped: 22000\n",
      "Total review ID scraped: 22200\n",
      "Total review ID scraped: 22400\n",
      "Total review ID scraped: 22600\n",
      "Total review ID scraped: 22800\n",
      "Total review ID scraped: 23000\n",
      "Total review ID scraped: 23200\n",
      "Total review ID scraped: 23400\n",
      "Total review ID scraped: 23600\n",
      "Total review ID scraped: 23800\n",
      "Total review ID scraped: 24000\n",
      "Total review ID scraped: 24200\n",
      "Total review ID scraped: 24400\n",
      "Total review ID scraped: 24600\n",
      "Total review ID scraped: 24800\n",
      "Total review ID scraped: 25000\n",
      "Total review ID scraped: 25200\n",
      "Total review ID scraped: 25400\n",
      "Total review ID scraped: 25600\n",
      "Total review ID scraped: 25800\n",
      "Total review ID scraped: 26000\n",
      "Total review ID scraped: 26200\n",
      "Total review ID scraped: 26400\n",
      "Total review ID scraped: 26600\n",
      "Total review ID scraped: 26800\n",
      "Total review ID scraped: 27000\n",
      "Total review ID scraped: 27200\n",
      "Total review ID scraped: 27400\n",
      "Total review ID scraped: 27600\n",
      "Total review ID scraped: 27800\n",
      "Total review ID scraped: 28000\n",
      "Total review ID scraped: 28200\n",
      "Total review ID scraped: 28400\n",
      "Total review ID scraped: 28600\n",
      "Total review ID scraped: 28800\n",
      "Total review ID scraped: 29000\n",
      "Total review ID scraped: 29200\n",
      "Total review ID scraped: 29400\n",
      "Total review ID scraped: 29600\n",
      "Total review ID scraped: 29800\n",
      "Total review ID scraped: 30000\n",
      "Total review ID scraped: 30200\n",
      "Total review ID scraped: 30400\n",
      "Total review ID scraped: 30600\n",
      "Total review ID scraped: 30800\n",
      "Total review ID scraped: 31000\n",
      "Total review ID scraped: 31200\n",
      "Total review ID scraped: 31400\n",
      "Total review ID scraped: 31600\n",
      "Total review ID scraped: 31800\n",
      "Total review ID scraped: 32000\n",
      "Total review ID scraped: 32200\n",
      "Total review ID scraped: 32400\n",
      "Total review ID scraped: 32600\n",
      "Total review ID scraped: 32800\n",
      "Total review ID scraped: 33000\n",
      "Total review ID scraped: 33200\n",
      "Total review ID scraped: 33400\n",
      "Total review ID scraped: 33600\n",
      "Total review ID scraped: 33800\n",
      "Total review ID scraped: 34000\n",
      "Total review ID scraped: 34200\n",
      "Total review ID scraped: 34400\n",
      "Total review ID scraped: 34600\n",
      "Total review ID scraped: 34800\n",
      "Total review ID scraped: 35000\n",
      "Total review ID scraped: 35200\n",
      "Total review ID scraped: 35400\n",
      "Total review ID scraped: 35600\n",
      "Total review ID scraped: 35800\n",
      "Total review ID scraped: 36000\n",
      "Total review ID scraped: 36200\n",
      "Total review ID scraped: 36400\n",
      "Total review ID scraped: 36600\n",
      "Total review ID scraped: 36800\n",
      "Total review ID scraped: 37000\n",
      "Total review ID scraped: 37200\n",
      "Total review ID scraped: 37400\n",
      "Total review ID scraped: 37600\n",
      "Total review ID scraped: 37800\n",
      "Total review ID scraped: 38000\n",
      "Total review ID scraped: 38200\n",
      "Total review ID scraped: 38400\n",
      "Total review ID scraped: 38600\n",
      "Total review ID scraped: 38800\n",
      "Total review ID scraped: 39000\n",
      "Total review ID scraped: 39200\n",
      "Total review ID scraped: 39400\n",
      "Total review ID scraped: 39600\n",
      "Total review ID scraped: 39800\n",
      "Total review ID scraped: 40000\n",
      "Total review ID scraped: 40200\n",
      "Total review ID scraped: 40400\n",
      "Total review ID scraped: 40600\n",
      "Total review ID scraped: 40800\n",
      "Total review ID scraped: 41000\n",
      "Total review ID scraped: 41200\n",
      "Total review ID scraped: 41400\n",
      "Total review ID scraped: 41600\n",
      "Total review ID scraped: 41800\n",
      "Total review ID scraped: 42000\n",
      "Total review ID scraped: 42200\n",
      "Total review ID scraped: 42400\n",
      "Total review ID scraped: 42600\n",
      "Total review ID scraped: 42800\n",
      "Total review ID scraped: 43000\n",
      "Total review ID scraped: 43200\n",
      "Total review ID scraped: 43400\n",
      "Total review ID scraped: 43600\n",
      "Total review ID scraped: 43800\n",
      "Total review ID scraped: 44000\n",
      "Total review ID scraped: 44200\n",
      "Total review ID scraped: 44400\n",
      "Total review ID scraped: 44600\n",
      "Total review ID scraped: 44800\n",
      "Total review ID scraped: 45000\n",
      "Total review ID scraped: 45200\n",
      "Total review ID scraped: 45400\n",
      "Total review ID scraped: 45600\n",
      "Total review ID scraped: 45800\n",
      "Total review ID scraped: 46000\n",
      "Total review ID scraped: 46200\n",
      "Total review ID scraped: 46400\n",
      "Total review ID scraped: 46600\n",
      "Total review ID scraped: 46800\n",
      "Total review ID scraped: 47000\n",
      "Total review ID scraped: 47200\n",
      "Total review ID scraped: 47400\n",
      "Total review ID scraped: 47600\n",
      "Total review ID scraped: 47800\n",
      "Total review ID scraped: 48000\n",
      "Total review ID scraped: 48200\n",
      "Total review ID scraped: 48400\n",
      "Total review ID scraped: 48600\n",
      "Total review ID scraped: 48800\n",
      "Total review ID scraped: 49000\n",
      "Total review ID scraped: 49200\n",
      "Total review ID scraped: 49400\n",
      "Total review ID scraped: 49600\n",
      "Total review ID scraped: 49800\n",
      "Total review ID scraped: 50000\n",
      "Total review ID scraped: 50200\n",
      "Total review ID scraped: 50400\n",
      "Total review ID scraped: 50600\n",
      "Total review ID scraped: 50800\n",
      "Total review ID scraped: 51000\n",
      "Total review ID scraped: 51200\n",
      "Total review ID scraped: 51400\n",
      "Total review ID scraped: 51600\n",
      "Total review ID scraped: 51800\n",
      "Total review ID scraped: 52000\n",
      "Total review ID scraped: 52200\n",
      "Total review ID scraped: 52400\n",
      "Total review ID scraped: 52600\n",
      "Total review ID scraped: 52800\n",
      "Total review ID scraped: 53000\n",
      "Total review ID scraped: 53200\n",
      "Total review ID scraped: 53400\n",
      "Total review ID scraped: 53600\n",
      "Total review ID scraped: 53800\n",
      "Total review ID scraped: 53961\n"
     ]
    }
   ],
   "source": [
    "total_reviews = 56366 \n",
    "\n",
    "result, continuation_token = reviews(\n",
    "  'com.tickledmedia.ParentTown',\n",
    "  lang = 'id',\n",
    "  country = 'id',\n",
    "  sort = Sort.NEWEST,\n",
    "  count = 200,\n",
    "  filter_score_with = None\n",
    ")\n",
    "print(f\"Total review ID scraped: {len(result)}\")\n",
    "\n",
    "if len(result) >= 200 and continuation_token:\n",
    "  while len(result) < total_reviews:\n",
    "    more_result, continuation_token = reviews(\n",
    "      'com.tickledmedia.ParentTown',\n",
    "      continuation_token = continuation_token\n",
    "    )\n",
    "    \n",
    "    if not more_result:\n",
    "      break\n",
    "    \n",
    "    result.extend(more_result)\n",
    "    print(f\"Total review ID scraped: {len(result)}\")"
   ]
  },
  {
   "cell_type": "code",
   "execution_count": 28,
   "metadata": {},
   "outputs": [],
   "source": [
    "df_id = pd.DataFrame(result)"
   ]
  },
  {
   "cell_type": "code",
   "execution_count": 29,
   "metadata": {},
   "outputs": [
    {
     "name": "stdout",
     "output_type": "stream",
     "text": [
      "Total review ID scraped: 200\n",
      "Total review ID scraped: 400\n",
      "Total review ID scraped: 600\n",
      "Total review ID scraped: 800\n",
      "Total review ID scraped: 1000\n",
      "Total review ID scraped: 1200\n",
      "Total review ID scraped: 1400\n",
      "Total review ID scraped: 1600\n",
      "Total review ID scraped: 1800\n",
      "Total review ID scraped: 2000\n",
      "Total review ID scraped: 2200\n",
      "Total review ID scraped: 2400\n",
      "Total review ID scraped: 2600\n",
      "Total review ID scraped: 2800\n",
      "Total review ID scraped: 3000\n",
      "Total review ID scraped: 3200\n",
      "Total review ID scraped: 3400\n",
      "Total review ID scraped: 3600\n",
      "Total review ID scraped: 3800\n",
      "Total review ID scraped: 4000\n",
      "Total review ID scraped: 4200\n",
      "Total review ID scraped: 4400\n",
      "Total review ID scraped: 4600\n",
      "Total review ID scraped: 4800\n",
      "Total review ID scraped: 5000\n",
      "Total review ID scraped: 5200\n",
      "Total review ID scraped: 5400\n",
      "Total review ID scraped: 5600\n",
      "Total review ID scraped: 5800\n",
      "Total review ID scraped: 6000\n",
      "Total review ID scraped: 6200\n",
      "Total review ID scraped: 6400\n",
      "Total review ID scraped: 6600\n",
      "Total review ID scraped: 6800\n",
      "Total review ID scraped: 7000\n",
      "Total review ID scraped: 7200\n",
      "Total review ID scraped: 7400\n",
      "Total review ID scraped: 7600\n",
      "Total review ID scraped: 7800\n",
      "Total review ID scraped: 8000\n",
      "Total review ID scraped: 8200\n",
      "Total review ID scraped: 8400\n",
      "Total review ID scraped: 8600\n",
      "Total review ID scraped: 8800\n",
      "Total review ID scraped: 9000\n",
      "Total review ID scraped: 9200\n",
      "Total review ID scraped: 9400\n",
      "Total review ID scraped: 9600\n",
      "Total review ID scraped: 9800\n",
      "Total review ID scraped: 10000\n",
      "Total review ID scraped: 10200\n",
      "Total review ID scraped: 10400\n",
      "Total review ID scraped: 10600\n",
      "Total review ID scraped: 10800\n",
      "Total review ID scraped: 11000\n",
      "Total review ID scraped: 11200\n",
      "Total review ID scraped: 11400\n",
      "Total review ID scraped: 11600\n",
      "Total review ID scraped: 11800\n",
      "Total review ID scraped: 12000\n",
      "Total review ID scraped: 12200\n",
      "Total review ID scraped: 12400\n",
      "Total review ID scraped: 12600\n",
      "Total review ID scraped: 12800\n",
      "Total review ID scraped: 13000\n",
      "Total review ID scraped: 13200\n",
      "Total review ID scraped: 13400\n",
      "Total review ID scraped: 13600\n",
      "Total review ID scraped: 13800\n",
      "Total review ID scraped: 14000\n",
      "Total review ID scraped: 14200\n",
      "Total review ID scraped: 14400\n",
      "Total review ID scraped: 14600\n",
      "Total review ID scraped: 14800\n",
      "Total review ID scraped: 15000\n",
      "Total review ID scraped: 15200\n",
      "Total review ID scraped: 15400\n",
      "Total review ID scraped: 15600\n",
      "Total review ID scraped: 15800\n",
      "Total review ID scraped: 16000\n",
      "Total review ID scraped: 16065\n"
     ]
    }
   ],
   "source": [
    "total_reviews = 56366 \n",
    "\n",
    "result, continuation_token = reviews(\n",
    "  'com.tickledmedia.ParentTown',\n",
    "  lang = 'en',\n",
    "  country = 'id',\n",
    "  sort = Sort.NEWEST,\n",
    "  count = 200,\n",
    "  filter_score_with = None\n",
    ")\n",
    "print(f\"Total review ID scraped: {len(result)}\")\n",
    "\n",
    "if len(result) >= 200 and continuation_token:\n",
    "  while len(result) < total_reviews:\n",
    "    more_result, continuation_token = reviews(\n",
    "      'com.tickledmedia.ParentTown',\n",
    "      continuation_token = continuation_token\n",
    "    )\n",
    "    \n",
    "    if not more_result:\n",
    "      break\n",
    "    \n",
    "    result.extend(more_result)\n",
    "    print(f\"Total review ID scraped: {len(result)}\")"
   ]
  },
  {
   "cell_type": "code",
   "execution_count": 30,
   "metadata": {},
   "outputs": [],
   "source": [
    "df_en = pd.DataFrame(result)"
   ]
  },
  {
   "cell_type": "code",
   "execution_count": 31,
   "metadata": {},
   "outputs": [
    {
     "data": {
      "text/plain": [
       "(70026, 11)"
      ]
     },
     "execution_count": 31,
     "metadata": {},
     "output_type": "execute_result"
    }
   ],
   "source": [
    "dfApp_asianparent = pd.concat([df_id, df_en], axis=0, ignore_index= True)\n",
    "dfApp_asianparent.shape"
   ]
  },
  {
   "cell_type": "code",
   "execution_count": 32,
   "metadata": {},
   "outputs": [],
   "source": [
    "dfApp_asianparent = dfApp_asianparent[['reviewId', 'content', 'score', 'at','replyContent', 'appVersion']]\n",
    "dfApp_asianparent[\"application\"] = \"Asian Parent\""
   ]
  },
  {
   "cell_type": "code",
   "execution_count": 33,
   "metadata": {},
   "outputs": [
    {
     "data": {
      "text/html": [
       "<div>\n",
       "<style scoped>\n",
       "    .dataframe tbody tr th:only-of-type {\n",
       "        vertical-align: middle;\n",
       "    }\n",
       "\n",
       "    .dataframe tbody tr th {\n",
       "        vertical-align: top;\n",
       "    }\n",
       "\n",
       "    .dataframe thead th {\n",
       "        text-align: right;\n",
       "    }\n",
       "</style>\n",
       "<table border=\"1\" class=\"dataframe\">\n",
       "  <thead>\n",
       "    <tr style=\"text-align: right;\">\n",
       "      <th></th>\n",
       "      <th>reviewId</th>\n",
       "      <th>content</th>\n",
       "      <th>score</th>\n",
       "      <th>at</th>\n",
       "      <th>replyContent</th>\n",
       "      <th>appVersion</th>\n",
       "      <th>application</th>\n",
       "    </tr>\n",
       "  </thead>\n",
       "  <tbody>\n",
       "    <tr>\n",
       "      <th>0</th>\n",
       "      <td>804f58df-05b9-4eae-a5a2-2a9d29b4069c</td>\n",
       "      <td>Aplikasi yg bagus utk bumil ,menambah wawasan ...</td>\n",
       "      <td>5</td>\n",
       "      <td>2025-03-09 10:40:06</td>\n",
       "      <td>Halo Parent Alkhalifi Khalif! Terima kasih ata...</td>\n",
       "      <td>3.0.16</td>\n",
       "      <td>Asian Parent</td>\n",
       "    </tr>\n",
       "    <tr>\n",
       "      <th>1</th>\n",
       "      <td>5885c6d1-19e9-4231-9d0c-323fccc7c787</td>\n",
       "      <td>Sangat membantu calon mams</td>\n",
       "      <td>5</td>\n",
       "      <td>2025-03-09 08:11:50</td>\n",
       "      <td>Halo Bunda Butet Borlab! Terima kasih atas rat...</td>\n",
       "      <td>3.0.16</td>\n",
       "      <td>Asian Parent</td>\n",
       "    </tr>\n",
       "    <tr>\n",
       "      <th>2</th>\n",
       "      <td>0c245fea-cdc7-4f33-a2e2-e5ba77440507</td>\n",
       "      <td>aplikasi yang sangat membantu mengontrol perke...</td>\n",
       "      <td>5</td>\n",
       "      <td>2025-03-08 13:15:05</td>\n",
       "      <td>Halo Bunda Erma! Terima kasih atas ratingnya, ...</td>\n",
       "      <td>3.0.16</td>\n",
       "      <td>Asian Parent</td>\n",
       "    </tr>\n",
       "    <tr>\n",
       "      <th>3</th>\n",
       "      <td>ddc17f81-f82d-4975-9eec-5858b7512024</td>\n",
       "      <td>gak bisa buka apk nya ,udah masuk ke gmail tap...</td>\n",
       "      <td>2</td>\n",
       "      <td>2025-03-07 05:28:39</td>\n",
       "      <td>Halo Bunda Yesi! Terima kasih telah melaporkan...</td>\n",
       "      <td>None</td>\n",
       "      <td>Asian Parent</td>\n",
       "    </tr>\n",
       "    <tr>\n",
       "      <th>4</th>\n",
       "      <td>66450a82-156d-4266-a33c-61e6e4b9c257</td>\n",
       "      <td>Apk ini sangat membantu, apalagi untuk para ne...</td>\n",
       "      <td>5</td>\n",
       "      <td>2025-03-05 16:36:56</td>\n",
       "      <td>Halo Bunda Latifahtul! Terima kasih atas ratin...</td>\n",
       "      <td>3.0.16</td>\n",
       "      <td>Asian Parent</td>\n",
       "    </tr>\n",
       "  </tbody>\n",
       "</table>\n",
       "</div>"
      ],
      "text/plain": [
       "                               reviewId  \\\n",
       "0  804f58df-05b9-4eae-a5a2-2a9d29b4069c   \n",
       "1  5885c6d1-19e9-4231-9d0c-323fccc7c787   \n",
       "2  0c245fea-cdc7-4f33-a2e2-e5ba77440507   \n",
       "3  ddc17f81-f82d-4975-9eec-5858b7512024   \n",
       "4  66450a82-156d-4266-a33c-61e6e4b9c257   \n",
       "\n",
       "                                             content  score  \\\n",
       "0  Aplikasi yg bagus utk bumil ,menambah wawasan ...      5   \n",
       "1                         Sangat membantu calon mams      5   \n",
       "2  aplikasi yang sangat membantu mengontrol perke...      5   \n",
       "3  gak bisa buka apk nya ,udah masuk ke gmail tap...      2   \n",
       "4  Apk ini sangat membantu, apalagi untuk para ne...      5   \n",
       "\n",
       "                   at                                       replyContent  \\\n",
       "0 2025-03-09 10:40:06  Halo Parent Alkhalifi Khalif! Terima kasih ata...   \n",
       "1 2025-03-09 08:11:50  Halo Bunda Butet Borlab! Terima kasih atas rat...   \n",
       "2 2025-03-08 13:15:05  Halo Bunda Erma! Terima kasih atas ratingnya, ...   \n",
       "3 2025-03-07 05:28:39  Halo Bunda Yesi! Terima kasih telah melaporkan...   \n",
       "4 2025-03-05 16:36:56  Halo Bunda Latifahtul! Terima kasih atas ratin...   \n",
       "\n",
       "  appVersion   application  \n",
       "0     3.0.16  Asian Parent  \n",
       "1     3.0.16  Asian Parent  \n",
       "2     3.0.16  Asian Parent  \n",
       "3       None  Asian Parent  \n",
       "4     3.0.16  Asian Parent  "
      ]
     },
     "execution_count": 33,
     "metadata": {},
     "output_type": "execute_result"
    }
   ],
   "source": [
    "dfApp_asianparent.head()"
   ]
  },
  {
   "cell_type": "markdown",
   "metadata": {},
   "source": [
    "## Hallobumil"
   ]
  },
  {
   "cell_type": "markdown",
   "metadata": {},
   "source": [
    "### App info"
   ]
  },
  {
   "cell_type": "code",
   "execution_count": 34,
   "metadata": {},
   "outputs": [],
   "source": [
    "app_info = app(\n",
    "  'crm.iluvubaby',\n",
    "  country = 'id'\n",
    ")"
   ]
  },
  {
   "cell_type": "code",
   "execution_count": 35,
   "metadata": {},
   "outputs": [
    {
     "name": "stdout",
     "output_type": "stream",
     "text": [
      "{\n",
      "    \"title\": \"Hallobumil\",\n",
      "    \"description\": \"Hallobumil is the first interactive application in Indonesia for mothers and mothers-to-be, accompanying them from promil, pregnancy to postpartum. Mama can also experience chatting with your little one since pregnancy, you know~\\r\\n\\r\\n<h4>Pregnancy Program Phase</h4>\\r\\n\\r\\nFor mothers who are planning a pregnancy, there is a Fertility Calendar feature to find out the best time to plan and also tips for a smooth prom! There are features: Mama's Reading and Ask Experts too, you know.\\r\\n\\r\\n<h4>Pregnancy Phase</h4>\\r\\n\\r\\nMama, do you want to know what it's like to be able to chat and how your little one grows from being as small as a sesame seed, until HPL arrives? Mama can see it in the timeline feature and daily dialogue. Apart from that, there are also: Kick Counting, Photo Album, Mama Reading, and Ask the Expert.\\r\\n\\r\\n<h4>Postpartum Phase</h4>\\r\\n\\r\\nYeay, Mama has met your little one! Growth and development features, photo albums, expert questions and daily dialogue will help Mama take care of your little one in every phase of his growth. So you know better what your little one needs.\\r\\n\\r\\nTherefore, only Hallobumil #understands, let's download it now!\\r\\n\\r\\n\\r\\nHallobumil is the first interactive app in Indonesia designed for every Mama and expecting Mama, providing support from pre-pregnancy planning, pregnancy, and the postpartum period. Mama is also able to experience the joy of chatting with their little ones starting from the pregnancy phase.\\r\\n\\r\\n<h4>Pre-Pregnancy Planning Phase</h4>\\r\\n\\r\\nFor Mama who is planning for pregnancy, there's a fertility calendar feature to know the best time for planning and also tips for a smoother conception journey. The Features are Articles & Ask the Experts.\\r\\n\\r\\n<h4>Pregnancy Phase</h4>\\r\\n\\r\\nMama, would you like to know what it feels like to chat and see how your little one grows from being as tiny as a sesame seed to the expected due date? See the progress using the timeline and daily dialogue features.\\r\\n\\r\\n<h4>Postpartum Phase</h4>\\r\\n\\r\\nYay! Mama has already met the little one! Let's try our growth and development feature to help Mama get a better understanding of her little one. Mama will know what's best for the lovely baby!\\r\\n\\r\\nDon't miss it because Hallobumil is the only one who #understandsmama. Download now!\",\n",
      "    \"descriptionHTML\": \"Hallobumil is the first interactive application in Indonesia for mothers and mothers-to-be, accompanying them from promil, pregnancy to postpartum. Mama can also experience chatting with your little one since pregnancy, you know~<br><br><h4>Pregnancy Program Phase</h4><br><br>For mothers who are planning a pregnancy, there is a Fertility Calendar feature to find out the best time to plan and also tips for a smooth prom! There are features: Mama&#39;s Reading and Ask Experts too, you know.<br><br><h4>Pregnancy Phase</h4><br><br>Mama, do you want to know what it&#39;s like to be able to chat and how your little one grows from being as small as a sesame seed, until HPL arrives? Mama can see it in the timeline feature and daily dialogue. Apart from that, there are also: Kick Counting, Photo Album, Mama Reading, and Ask the Expert.<br><br><h4>Postpartum Phase</h4><br><br>Yeay, Mama has met your little one! Growth and development features, photo albums, expert questions and daily dialogue will help Mama take care of your little one in every phase of his growth. So you know better what your little one needs.<br><br>Therefore, only Hallobumil #understands, let&#39;s download it now!<br><br><br>Hallobumil is the first interactive app in Indonesia designed for every Mama and expecting Mama, providing support from pre-pregnancy planning, pregnancy, and the postpartum period. Mama is also able to experience the joy of chatting with their little ones starting from the pregnancy phase.<br><br><h4>Pre-Pregnancy Planning Phase</h4><br><br>For Mama who is planning for pregnancy, there&#39;s a fertility calendar feature to know the best time for planning and also tips for a smoother conception journey. The Features are Articles &amp; Ask the Experts.<br><br><h4>Pregnancy Phase</h4><br><br>Mama, would you like to know what it feels like to chat and see how your little one grows from being as tiny as a sesame seed to the expected due date? See the progress using the timeline and daily dialogue features.<br><br><h4>Postpartum Phase</h4><br><br>Yay! Mama has already met the little one! Let&#39;s try our growth and development feature to help Mama get a better understanding of her little one. Mama will know what&#39;s best for the lovely baby!<br><br>Don&#39;t miss it because Hallobumil is the only one who #understandsmama. Download now!\",\n",
      "    \"summary\": \"Hallobumil - The First Interactive Application in Indonesia for Mamas & Mamas-To-Be\",\n",
      "    \"installs\": \"1,000,000+\",\n",
      "    \"minInstalls\": 1000000,\n",
      "    \"realInstalls\": 3330139,\n",
      "    \"score\": 4.0183206,\n",
      "    \"ratings\": 19631,\n",
      "    \"reviews\": 6683,\n",
      "    \"histogram\": [\n",
      "        3106,\n",
      "        1028,\n",
      "        1148,\n",
      "        1457,\n",
      "        12886\n",
      "    ],\n",
      "    \"price\": 0,\n",
      "    \"free\": true,\n",
      "    \"currency\": \"IDR\",\n",
      "    \"sale\": false,\n",
      "    \"saleTime\": null,\n",
      "    \"originalPrice\": null,\n",
      "    \"saleText\": null,\n",
      "    \"offersIAP\": false,\n",
      "    \"inAppProductPrice\": null,\n",
      "    \"developer\": \"Hallobumil\",\n",
      "    \"developerId\": \"Hallobumil\",\n",
      "    \"developerEmail\": \"hallobumil@gmail.com\",\n",
      "    \"developerWebsite\": null,\n",
      "    \"developerAddress\": null,\n",
      "    \"privacyPolicy\": \"https://hallobumil.com/kebijakan-privasi-hb\",\n",
      "    \"genre\": \"Parenting\",\n",
      "    \"genreId\": \"PARENTING\",\n",
      "    \"categories\": [\n",
      "        {\n",
      "            \"name\": \"Parenting\",\n",
      "            \"id\": \"PARENTING\"\n",
      "        }\n",
      "    ],\n",
      "    \"icon\": \"https://play-lh.googleusercontent.com/UxHa0IAuPw-boe15eFJ8Tu6Aqrgslda_P0g4_UnQJQfD280742tjcMTAsJ5ezOK8eWU\",\n",
      "    \"headerImage\": \"https://play-lh.googleusercontent.com/-R-lC8vFvs9Puo9W-ekRjeqP36NwUoh9GQyMW4xcL0ChFEzcEcMbM0gvh__TVKCNTrs\",\n",
      "    \"screenshots\": [\n",
      "        \"https://play-lh.googleusercontent.com/iz95mrzoVUAder6XaNeI44aSRWxz_7Ca86c0W8D-SIy3ggwSzI4uLinwNvAZwSG4UU4\",\n",
      "        \"https://play-lh.googleusercontent.com/wVvFG40w3XxWj_9JWcN0qRpvtTVXCEV0UAKBJNN-MxvS3-WFFeO32bl0sKVD1vBstl0\",\n",
      "        \"https://play-lh.googleusercontent.com/Cmv8yVhGkXpXB1tWoz6-qpqxC7Fmkg4SQPnBD2c_QzCVdwPNq2paYxTs_9wL_v-KPw\",\n",
      "        \"https://play-lh.googleusercontent.com/Ukx4lGwqSKb0hWF7rG9PNOsZHzjXldhNbjmDy9lzTcfFsvgpRLtGJ8fuMvVbJa0fr88\",\n",
      "        \"https://play-lh.googleusercontent.com/kqavcTxpXvZumUmM5cRSys4f3hqTzaKo52_e946rh5pvYeZ8s9NU2Jl7UpOrUHQzCVQ\",\n",
      "        \"https://play-lh.googleusercontent.com/XuFD-l_DkcsQ-RLoJSen184BQvo8mZyHjKOxvmKI16gt-MSAVo9sccrSXgz5Tmfkyz0g\",\n",
      "        \"https://play-lh.googleusercontent.com/HBCvwkOfTmK1oHoxNqNuCzNqDO5bjheJ6K7RZY7byHgMYkaewteRwffGhf9N6R3nIw\",\n",
      "        \"https://play-lh.googleusercontent.com/VXoQv7z-FVI2x5w4Tt7Z_OQ_1TtcNnrIB2yqCyGMfmxcVhL1D8xTXm--0kLgXhQsl7s\",\n",
      "        \"https://play-lh.googleusercontent.com/IXqrvQlrS9lck5DkxRwNYd6GF7ctOX0KFGvm0bGV8j9cL9xN22L48kae_ZiW49EAJg\",\n",
      "        \"https://play-lh.googleusercontent.com/UYK82DsYkSU7AA1zOn4XqIVs9WLntoWm-DLqXUwJm16GUizrGypYp0OIzYQKMm-Sszc\",\n",
      "        \"https://play-lh.googleusercontent.com/H5nM6kcjvvxbLXWUNnoVbDMgYOs2eJDslA4UWhLa_DS0_nrRt40v-RWS4RtHJzThHDc\",\n",
      "        \"https://play-lh.googleusercontent.com/ujura7iAzh1MDoZEluKqf-sReYhzmXB54YVNDH5tnMCzMiHAc_pvtScCgXtod11_DT0\",\n",
      "        \"https://play-lh.googleusercontent.com/vu_-VOjBedgOEYHvmDed1CjtmCrnhYEPjoftcNRJKNqGAWnqemm7iimtzz77UKtA25Tr\",\n",
      "        \"https://play-lh.googleusercontent.com/-BbU3Zh8wyNqclrnO8DLOUBeuSrdD2-rdpkTYCxDmV3pWN3YWjYTru_T3hIaHlgawyM\",\n",
      "        \"https://play-lh.googleusercontent.com/tLNxYDHEMAom1GsKPFdf7Hu_b0K2kk7T9vct3AwgeBFqMOlX4JLPBC7FxnEv0KgNLw\",\n",
      "        \"https://play-lh.googleusercontent.com/brQ0FnMglVJQcjyE7erYF7VuPZstuVTr5cmMCp8Ui0mdANkdp59bN-UxcEKUFre0bcY\",\n",
      "        \"https://play-lh.googleusercontent.com/_jIb_Nfr_EHzb8XoAhIqwrO9teJ6qMfo5y1bLyBlXdJV730EN9lzQS7_2gePoM84FpE\",\n",
      "        \"https://play-lh.googleusercontent.com/rk4cX0JAGQyfDbMf6s9SQ67Ia5uT0CMlKl50VPKXxJ4V2C4C3ojNg63r-uUDKMDyZZk\",\n",
      "        \"https://play-lh.googleusercontent.com/EIZR9zbcOP7sPUlPt8oNxvaWztJbvAFqRDHiNNZPyVdc8ZKs12Z0bY1n_qrvAxvmfw\",\n",
      "        \"https://play-lh.googleusercontent.com/UAtjWxXK8a2pD5q0Qxp04LRmVTqrBdsZC0JZYbydkgs-tFK5oXQTCr4GI0Ou4J8tGA\",\n",
      "        \"https://play-lh.googleusercontent.com/P8Pado-a8XJPw2JmWagxZwon8X1jWV-z2xdfoO87intB4O7SGBrFZVnJYQDWDtqMkcI\",\n",
      "        \"https://play-lh.googleusercontent.com/_EqERILDLacAC5zTXhK0cNTkDQkbF50qFX40gF7VWExf_K0oOM1UKySXdGA7HUdFDg\",\n",
      "        \"https://play-lh.googleusercontent.com/QJhHHt9U5mUDCyjXQdBV0_WoBeYrQayTbyvt0Mv6qawdt7d_Zz-yQ267UzFllJ8zRoP_\",\n",
      "        \"https://play-lh.googleusercontent.com/VEhO8nS-un_zQcMn0nlq9tduSJlkGW0SAud-rvaHo7brxHehdxgki9szGJgcZ5m0A8M\"\n",
      "    ],\n",
      "    \"video\": \"https://www.youtube.com/embed/pjksHRTQZQ8?ps=play&vq=large&rel=0&autohide=1&showinfo=0\",\n",
      "    \"videoImage\": \"https://play-lh.googleusercontent.com/-R-lC8vFvs9Puo9W-ekRjeqP36NwUoh9GQyMW4xcL0ChFEzcEcMbM0gvh__TVKCNTrs\",\n",
      "    \"contentRating\": \"Rated for 3+\",\n",
      "    \"contentRatingDescription\": null,\n",
      "    \"adSupported\": false,\n",
      "    \"containsAds\": false,\n",
      "    \"released\": \"Nov 1, 2016\",\n",
      "    \"lastUpdatedOn\": \"Feb 24, 2025\",\n",
      "    \"updated\": 1740466835,\n",
      "    \"version\": \"2.7.0\",\n",
      "    \"comments\": [],\n",
      "    \"appId\": \"crm.iluvubaby\",\n",
      "    \"url\": \"https://play.google.com/store/apps/details?id=crm.iluvubaby&hl=en&gl=id\"\n",
      "}\n"
     ]
    }
   ],
   "source": [
    "print(json.dumps(app_info, indent=4))"
   ]
  },
  {
   "cell_type": "code",
   "execution_count": 36,
   "metadata": {},
   "outputs": [],
   "source": [
    "infoApp_hallobumil = pd.DataFrame([app_info])\n",
    "infoApp_hallobumil = infoApp_hallobumil[[\"title\", \"summary\", \"realInstalls\", \"score\", \"ratings\", \"reviews\", \"free\"]]"
   ]
  },
  {
   "cell_type": "markdown",
   "metadata": {},
   "source": [
    "### App reviews"
   ]
  },
  {
   "cell_type": "code",
   "execution_count": 37,
   "metadata": {},
   "outputs": [
    {
     "name": "stdout",
     "output_type": "stream",
     "text": [
      "Total review ID scraped: 200\n",
      "Total review ID scraped: 400\n",
      "Total review ID scraped: 600\n",
      "Total review ID scraped: 800\n",
      "Total review ID scraped: 1000\n",
      "Total review ID scraped: 1200\n",
      "Total review ID scraped: 1400\n",
      "Total review ID scraped: 1600\n",
      "Total review ID scraped: 1800\n",
      "Total review ID scraped: 2000\n",
      "Total review ID scraped: 2200\n",
      "Total review ID scraped: 2400\n",
      "Total review ID scraped: 2600\n",
      "Total review ID scraped: 2800\n",
      "Total review ID scraped: 3000\n",
      "Total review ID scraped: 3200\n",
      "Total review ID scraped: 3400\n",
      "Total review ID scraped: 3600\n",
      "Total review ID scraped: 3800\n",
      "Total review ID scraped: 4000\n",
      "Total review ID scraped: 4200\n",
      "Total review ID scraped: 4400\n",
      "Total review ID scraped: 4600\n",
      "Total review ID scraped: 4800\n",
      "Total review ID scraped: 5000\n",
      "Total review ID scraped: 5200\n",
      "Total review ID scraped: 5400\n",
      "Total review ID scraped: 5600\n",
      "Total review ID scraped: 5800\n",
      "Total review ID scraped: 6000\n",
      "Total review ID scraped: 6200\n",
      "Total review ID scraped: 6317\n"
     ]
    }
   ],
   "source": [
    "total_reviews = 6683 \n",
    "\n",
    "result, continuation_token = reviews(\n",
    "  'crm.iluvubaby',\n",
    "  lang = 'id',\n",
    "  country = 'id',\n",
    "  sort = Sort.NEWEST,\n",
    "  count = 200,\n",
    "  filter_score_with = None\n",
    ")\n",
    "print(f\"Total review ID scraped: {len(result)}\")\n",
    "\n",
    "if len(result) >= 200 and continuation_token:\n",
    "  while len(result) < total_reviews:\n",
    "    more_result, continuation_token = reviews(\n",
    "      'crm.iluvubaby',\n",
    "      continuation_token = continuation_token\n",
    "    )\n",
    "    \n",
    "    if not more_result:\n",
    "      break\n",
    "    \n",
    "    result.extend(more_result)\n",
    "    print(f\"Total review ID scraped: {len(result)}\")"
   ]
  },
  {
   "cell_type": "code",
   "execution_count": 38,
   "metadata": {},
   "outputs": [],
   "source": [
    "df_id = pd.DataFrame(result)"
   ]
  },
  {
   "cell_type": "code",
   "execution_count": 39,
   "metadata": {},
   "outputs": [
    {
     "name": "stdout",
     "output_type": "stream",
     "text": [
      "Total review ID scraped: 200\n",
      "Total review ID scraped: 366\n"
     ]
    }
   ],
   "source": [
    "total_reviews = 6683 \n",
    "\n",
    "result, continuation_token = reviews(\n",
    "  'crm.iluvubaby',\n",
    "  lang = 'en',\n",
    "  country = 'id',\n",
    "  sort = Sort.NEWEST,\n",
    "  count = 200,\n",
    "  filter_score_with = None\n",
    ")\n",
    "print(f\"Total review ID scraped: {len(result)}\")\n",
    "\n",
    "if len(result) >= 200 and continuation_token:\n",
    "  while len(result) < total_reviews:\n",
    "    more_result, continuation_token = reviews(\n",
    "      'crm.iluvubaby',\n",
    "      continuation_token = continuation_token\n",
    "    )\n",
    "    \n",
    "    if not more_result:\n",
    "      break\n",
    "    \n",
    "    result.extend(more_result)\n",
    "    print(f\"Total review ID scraped: {len(result)}\")"
   ]
  },
  {
   "cell_type": "code",
   "execution_count": 40,
   "metadata": {},
   "outputs": [],
   "source": [
    "df_en = pd.DataFrame(result)"
   ]
  },
  {
   "cell_type": "code",
   "execution_count": 41,
   "metadata": {},
   "outputs": [
    {
     "data": {
      "text/plain": [
       "(6683, 11)"
      ]
     },
     "execution_count": 41,
     "metadata": {},
     "output_type": "execute_result"
    }
   ],
   "source": [
    "dfApp_hallobumil = pd.concat([df_id, df_en], axis=0, ignore_index= True)\n",
    "dfApp_hallobumil.shape"
   ]
  },
  {
   "cell_type": "code",
   "execution_count": 42,
   "metadata": {},
   "outputs": [],
   "source": [
    "dfApp_hallobumil = dfApp_hallobumil[['reviewId', 'content', 'score', 'at','replyContent', 'appVersion']]\n",
    "dfApp_hallobumil[\"application\"] = \"Hallobumil\""
   ]
  },
  {
   "cell_type": "markdown",
   "metadata": {},
   "source": [
    "## Teman Bumil"
   ]
  },
  {
   "cell_type": "code",
   "execution_count": 43,
   "metadata": {},
   "outputs": [],
   "source": [
    "app_info = app(\n",
    "  'com.temanbumil.android',\n",
    "  country = 'id'\n",
    ")"
   ]
  },
  {
   "cell_type": "code",
   "execution_count": 44,
   "metadata": {},
   "outputs": [
    {
     "name": "stdout",
     "output_type": "stream",
     "text": [
      "{\n",
      "    \"title\": \"Teman Bumil - Kehamilan & Anak\",\n",
      "    \"description\": \"The journey to becoming a mother is a phase full of challenges. Starting from undergoing promil, going through the pregnancy period, to accompanying the child's growth and development process. This precious period is certainly easier if you are accompanied by a trusted source of information.\\r\\n\\r\\nPregnant Friends have been accompanying Mums and Dads in Indonesia for more than 6 years. As a Millennial Mother's Friend, Pregnant Friend is equipped with information and various features to be the best friend for Mums. The information available ranges from promil, pregnancy, and child growth and development up to the age of 5 years.\\r\\n\\r\\nThe information available is complete, for promil ranging from natural promil to assisted reproductive technology. In this way, Teman Bumil also acts as a pregnancy program application for second-line fighters. Friends of Pregnant Women also acts as a pregnancy check application and provides pregnancy information every week of pregnancy.\\r\\n\\r\\nThe features in Teman Bumil are designed to be interactive and easy to access, such as:\\r\\n\\r\\nMilestones\\r\\nThis feature monitors the growth and development of the fetus and child easily. Equipped with interesting illustrations, monitoring pregnancy and child development becomes more fun!\\r\\n\\r\\nMother and Child Medical Records\\r\\nSave data for Mums and your little one with this feature! Apart from making it easier to review fetal growth every month, the data is stored safely, easy to carry anywhere, and can be accessed at any time.\\r\\n\\r\\nTeleconsultation with Experts\\r\\nAsk the experts about the concerns of Mums and their little ones\\r\\n\\r\\nMedia\\r\\nHere Mums can watch lots of educational videos from experts. The topics vary, from promil and exercise for promil, pregnancy, childbirth preparation, to parenting.\\r\\n\\r\\nShopping\\r\\nWith this feature, Mums can shop for products and services according to the needs of themselves and their children. Fast delivery and easy payment methods. With the Shopping feature, it's easier and faster for Mums to buy what they need!\\r\\n\\r\\nArticle\\r\\nMums can ensure a smooth pregnancy, check for a healthy pregnancy, and get parenting education by reading more than 1000 articles on Teman Bumil. Articles are available chronologically according to phase, so they are easy to access and follow needs.\\r\\n\\r\\nCommunity\\r\\nThe Pregnant Friends Community is a place to learn together from the promil phase, through pregnancy and parenting. Here Mums can have free discussions with experts, take part in giveaways, and discuss with other Mums!\\r\\n\\r\\nJournal\\r\\nHave lots of memorable photos? Mums can neatly store photos of their pregnancy and child development in the Journal feature. Important photos are no longer messy anymore.\\r\\n\\r\\nTips\\r\\nFind trusted tips and tricks in the Pregnant Friends Tips feature. Mums can get answers to the challenges that Mums experience in the form of promil tips, pregnancy, and parenting tips.\\r\\n\\r\\nWith these features, Teman Bumil is ready to become the best pregnancy application to accompany Mums on their journey as mothers. Because Pregnant Friends are the best friends for every mother.\",\n",
      "    \"descriptionHTML\": \"The journey to becoming a mother is a phase full of challenges. Starting from undergoing promil, going through the pregnancy period, to accompanying the child&#39;s growth and development process. This precious period is certainly easier if you are accompanied by a trusted source of information.<br><br>Pregnant Friends have been accompanying Mums and Dads in Indonesia for more than 6 years. As a Millennial Mother&#39;s Friend, Pregnant Friend is equipped with information and various features to be the best friend for Mums. The information available ranges from promil, pregnancy, and child growth and development up to the age of 5 years.<br><br>The information available is complete, for promil ranging from natural promil to assisted reproductive technology. In this way, Teman Bumil also acts as a pregnancy program application for second-line fighters. Friends of Pregnant Women also acts as a pregnancy check application and provides pregnancy information every week of pregnancy.<br><br>The features in Teman Bumil are designed to be interactive and easy to access, such as:<br><br>Milestones<br>This feature monitors the growth and development of the fetus and child easily. Equipped with interesting illustrations, monitoring pregnancy and child development becomes more fun!<br><br>Mother and Child Medical Records<br>Save data for Mums and your little one with this feature! Apart from making it easier to review fetal growth every month, the data is stored safely, easy to carry anywhere, and can be accessed at any time.<br><br>Teleconsultation with Experts<br>Ask the experts about the concerns of Mums and their little ones<br><br>Media<br>Here Mums can watch lots of educational videos from experts. The topics vary, from promil and exercise for promil, pregnancy, childbirth preparation, to parenting.<br><br>Shopping<br>With this feature, Mums can shop for products and services according to the needs of themselves and their children. Fast delivery and easy payment methods. With the Shopping feature, it&#39;s easier and faster for Mums to buy what they need!<br><br>Article<br>Mums can ensure a smooth pregnancy, check for a healthy pregnancy, and get parenting education by reading more than 1000 articles on Teman Bumil. Articles are available chronologically according to phase, so they are easy to access and follow needs.<br><br>Community<br>The Pregnant Friends Community is a place to learn together from the promil phase, through pregnancy and parenting. Here Mums can have free discussions with experts, take part in giveaways, and discuss with other Mums!<br><br>Journal<br>Have lots of memorable photos? Mums can neatly store photos of their pregnancy and child development in the Journal feature. Important photos are no longer messy anymore.<br><br>Tips<br>Find trusted tips and tricks in the Pregnant Friends Tips feature. Mums can get answers to the challenges that Mums experience in the form of promil tips, pregnancy, and parenting tips.<br><br>With these features, Teman Bumil is ready to become the best pregnancy application to accompany Mums on their journey as mothers. Because Pregnant Friends are the best friends for every mother.\",\n",
      "    \"summary\": \"The largest application and community for mothers who are pregnant, pregnant and have children.\",\n",
      "    \"installs\": \"1,000,000+\",\n",
      "    \"minInstalls\": 1000000,\n",
      "    \"realInstalls\": 2839846,\n",
      "    \"score\": 4.913638,\n",
      "    \"ratings\": 29668,\n",
      "    \"reviews\": 11492,\n",
      "    \"histogram\": [\n",
      "        316,\n",
      "        78,\n",
      "        187,\n",
      "        681,\n",
      "        28400\n",
      "    ],\n",
      "    \"price\": 0,\n",
      "    \"free\": true,\n",
      "    \"currency\": \"IDR\",\n",
      "    \"sale\": false,\n",
      "    \"saleTime\": null,\n",
      "    \"originalPrice\": null,\n",
      "    \"saleText\": null,\n",
      "    \"offersIAP\": false,\n",
      "    \"inAppProductPrice\": null,\n",
      "    \"developer\": \"Global Urban Esensial\",\n",
      "    \"developerId\": \"Global+Urban+Esensial\",\n",
      "    \"developerEmail\": \"info@temanbumil.com\",\n",
      "    \"developerWebsite\": \"https://www.temanbumil.com\",\n",
      "    \"developerAddress\": null,\n",
      "    \"privacyPolicy\": \"https://www.temanbumil.com/kebijakan-privasi\",\n",
      "    \"genre\": \"Parenting\",\n",
      "    \"genreId\": \"PARENTING\",\n",
      "    \"categories\": [\n",
      "        {\n",
      "            \"name\": \"Parenting\",\n",
      "            \"id\": \"PARENTING\"\n",
      "        }\n",
      "    ],\n",
      "    \"icon\": \"https://play-lh.googleusercontent.com/sJFQ582Rk4bOIWtLBn3n13vcaqXwFkIKvDZbtNyJVbQ48bxe9b9GE9KqeqB-t61bXg\",\n",
      "    \"headerImage\": \"https://play-lh.googleusercontent.com/AlSjrpstiWX57q247_wqvEKVwvvTUBcpnlj7qVlctVoOm_sS2E9osbPmdxN0QDREOE9R\",\n",
      "    \"screenshots\": [\n",
      "        \"https://play-lh.googleusercontent.com/igwUO8vpEnZiYM44y0HKR47187HPOad58HVt8IpFl7jSO-88T9d0nA8HMwJt9lhtGu0\",\n",
      "        \"https://play-lh.googleusercontent.com/JC54gAVJTDE_b6wz5ufEc8fkXM0iuilSCa_D9lVY5Sev4HZ4T6KoIsL73_DmBcenYg\",\n",
      "        \"https://play-lh.googleusercontent.com/DRrM1vq8CdTuPFXTpR58YKNX7Tzo4SlLV9lznHXnUDzz4dX8XJfK_ykXoG_PGFddqShT\",\n",
      "        \"https://play-lh.googleusercontent.com/E0zcJYynmi_xuUx7Egb61xSYCvktb_Pg2vTXYguC1feEBLyk22c_9p7jJvkzz7QjMQ\",\n",
      "        \"https://play-lh.googleusercontent.com/MQ-o2Ijj8LUHRrtolL65vj0j5p_w_OrEYz2LrGzjeTvfdzh9GtZ8cR79-hg06wUFZ2A\",\n",
      "        \"https://play-lh.googleusercontent.com/9PXJyeVehxxelpVi8Py4X1FMGfBoZ5tCyGRVPKgIgdIyzquIN8-6pqVQ-KJoRBoisds\",\n",
      "        \"https://play-lh.googleusercontent.com/6JPjGwDVDKUn6J7a8aV1KZ_E6LluiWggsd6vWW9zYfyqKi-Ot33B5BAt0XslG6YFWw\",\n",
      "        \"https://play-lh.googleusercontent.com/B4sy2caldRlpFIS9XYFcRkFjt3BEqad7IBf3xPROPV3pw72sCId74cDsSO6EY8P7aIwd\",\n",
      "        \"https://play-lh.googleusercontent.com/9ZcFqD6OQfveSItlepingLXBt1kUQHEag6Y-yFK0BShhxFop-tRp1R5Cz3gFxk9cYns\",\n",
      "        \"https://play-lh.googleusercontent.com/pOhkwmOvMgD2iu6S-G1NaphfrAJQJVh65ZjB3_vY-5JxnHCkXqq_pXzaKBd2c4IrHA\",\n",
      "        \"https://play-lh.googleusercontent.com/cp8drvRRA1l0y-dJKo8UXK5s6LC5ewRvfhgsrJE-rqOQ-VQKtX5oe54fOYuUtfE9xA\",\n",
      "        \"https://play-lh.googleusercontent.com/e9sPIQUGWNllG7os7hHBGnTo3vNH11ePbIEu7ly40Vn8baVmRbqlWHDS6X9jwf0iIsBz\",\n",
      "        \"https://play-lh.googleusercontent.com/vlvYL04HTYOwKNcM5MfdDqeT5dOTPiBy82_N0LE7CX_nzgZhtuST8v3c10beh10P88k\",\n",
      "        \"https://play-lh.googleusercontent.com/KbneUz-dCYm_T1_XrsZFaWsYntGcC-J_8fw1KWNulacoQ-ud9zOBu_jm08vmE1S0Ul23\"\n",
      "    ],\n",
      "    \"video\": \"https://www.youtube.com/embed/DIpbYDgkxAA?ps=play&vq=large&rel=0&autohide=1&showinfo=0\",\n",
      "    \"videoImage\": \"https://play-lh.googleusercontent.com/AlSjrpstiWX57q247_wqvEKVwvvTUBcpnlj7qVlctVoOm_sS2E9osbPmdxN0QDREOE9R\",\n",
      "    \"contentRating\": \"Rated for 3+\",\n",
      "    \"contentRatingDescription\": null,\n",
      "    \"adSupported\": true,\n",
      "    \"containsAds\": true,\n",
      "    \"released\": \"Oct 23, 2017\",\n",
      "    \"lastUpdatedOn\": \"Dec 25, 2024\",\n",
      "    \"updated\": 1735189578,\n",
      "    \"version\": \"2.24.0\",\n",
      "    \"comments\": [],\n",
      "    \"appId\": \"com.temanbumil.android\",\n",
      "    \"url\": \"https://play.google.com/store/apps/details?id=com.temanbumil.android&hl=en&gl=id\"\n",
      "}\n"
     ]
    }
   ],
   "source": [
    "print(json.dumps(app_info, indent=4))"
   ]
  },
  {
   "cell_type": "code",
   "execution_count": 45,
   "metadata": {},
   "outputs": [],
   "source": [
    "infoApp_temanbumil = pd.DataFrame([app_info])\n",
    "infoApp_temanbumil = infoApp_temanbumil[[\"title\", \"summary\", \"realInstalls\", \"score\", \"ratings\", \"reviews\", \"free\"]]"
   ]
  },
  {
   "cell_type": "markdown",
   "metadata": {},
   "source": [
    "### App reviews"
   ]
  },
  {
   "cell_type": "code",
   "execution_count": 46,
   "metadata": {},
   "outputs": [
    {
     "name": "stdout",
     "output_type": "stream",
     "text": [
      "Total review ID scraped: 200\n",
      "Total review ID scraped: 400\n",
      "Total review ID scraped: 600\n",
      "Total review ID scraped: 800\n",
      "Total review ID scraped: 1000\n",
      "Total review ID scraped: 1200\n",
      "Total review ID scraped: 1400\n",
      "Total review ID scraped: 1600\n",
      "Total review ID scraped: 1800\n",
      "Total review ID scraped: 2000\n",
      "Total review ID scraped: 2200\n",
      "Total review ID scraped: 2400\n",
      "Total review ID scraped: 2600\n",
      "Total review ID scraped: 2800\n",
      "Total review ID scraped: 3000\n",
      "Total review ID scraped: 3200\n",
      "Total review ID scraped: 3400\n",
      "Total review ID scraped: 3600\n",
      "Total review ID scraped: 3800\n",
      "Total review ID scraped: 4000\n",
      "Total review ID scraped: 4200\n",
      "Total review ID scraped: 4400\n",
      "Total review ID scraped: 4600\n",
      "Total review ID scraped: 4800\n",
      "Total review ID scraped: 5000\n",
      "Total review ID scraped: 5200\n",
      "Total review ID scraped: 5400\n",
      "Total review ID scraped: 5600\n",
      "Total review ID scraped: 5800\n",
      "Total review ID scraped: 6000\n",
      "Total review ID scraped: 6200\n",
      "Total review ID scraped: 6400\n",
      "Total review ID scraped: 6600\n",
      "Total review ID scraped: 6800\n",
      "Total review ID scraped: 7000\n",
      "Total review ID scraped: 7200\n",
      "Total review ID scraped: 7400\n",
      "Total review ID scraped: 7600\n",
      "Total review ID scraped: 7800\n",
      "Total review ID scraped: 8000\n",
      "Total review ID scraped: 8200\n",
      "Total review ID scraped: 8400\n",
      "Total review ID scraped: 8600\n",
      "Total review ID scraped: 8800\n",
      "Total review ID scraped: 9000\n",
      "Total review ID scraped: 9200\n",
      "Total review ID scraped: 9400\n",
      "Total review ID scraped: 9600\n",
      "Total review ID scraped: 9800\n",
      "Total review ID scraped: 10000\n",
      "Total review ID scraped: 10200\n",
      "Total review ID scraped: 10268\n"
     ]
    }
   ],
   "source": [
    "total_reviews = 11492 \n",
    "\n",
    "result, continuation_token = reviews(\n",
    "  'com.temanbumil.android',\n",
    "  lang = 'id',\n",
    "  country = 'id',\n",
    "  sort = Sort.NEWEST,\n",
    "  count = 200,\n",
    "  filter_score_with = None\n",
    ")\n",
    "print(f\"Total review ID scraped: {len(result)}\")\n",
    "\n",
    "if len(result) >= 200 and continuation_token:\n",
    "  while len(result) < total_reviews:\n",
    "    more_result, continuation_token = reviews(\n",
    "      'com.temanbumil.android',\n",
    "      continuation_token = continuation_token\n",
    "    )\n",
    "    \n",
    "    if not more_result:\n",
    "      break\n",
    "    \n",
    "    result.extend(more_result)\n",
    "    print(f\"Total review ID scraped: {len(result)}\")"
   ]
  },
  {
   "cell_type": "code",
   "execution_count": 47,
   "metadata": {},
   "outputs": [],
   "source": [
    "df_id = pd.DataFrame(result)"
   ]
  },
  {
   "cell_type": "code",
   "execution_count": 48,
   "metadata": {},
   "outputs": [
    {
     "name": "stdout",
     "output_type": "stream",
     "text": [
      "Total review EN scraped: 200\n",
      "Total review EN scraped: 400\n",
      "Total review EN scraped: 600\n",
      "Total review EN scraped: 800\n",
      "Total review EN scraped: 1000\n",
      "Total review EN scraped: 1200\n",
      "Total review EN scraped: 1274\n"
     ]
    }
   ],
   "source": [
    "total_reviews = 11492 \n",
    "\n",
    "result, continuation_token = reviews(\n",
    "  'com.temanbumil.android',\n",
    "  lang = 'en',\n",
    "  country = 'id',\n",
    "  sort = Sort.NEWEST,\n",
    "  count = 200,\n",
    "  filter_score_with = None\n",
    ")\n",
    "print(f\"Total review EN scraped: {len(result)}\")\n",
    "\n",
    "if len(result) >= 200 and continuation_token:\n",
    "  while len(result) < total_reviews:\n",
    "    more_result, continuation_token = reviews(\n",
    "      'com.temanbumil.android',\n",
    "      continuation_token = continuation_token\n",
    "    )\n",
    "    \n",
    "    if not more_result:\n",
    "      break\n",
    "    \n",
    "    result.extend(more_result)\n",
    "    print(f\"Total review EN scraped: {len(result)}\")"
   ]
  },
  {
   "cell_type": "code",
   "execution_count": 49,
   "metadata": {},
   "outputs": [],
   "source": [
    "df_en = pd.DataFrame(result)"
   ]
  },
  {
   "cell_type": "code",
   "execution_count": 50,
   "metadata": {},
   "outputs": [
    {
     "data": {
      "text/plain": [
       "(11542, 11)"
      ]
     },
     "execution_count": 50,
     "metadata": {},
     "output_type": "execute_result"
    }
   ],
   "source": [
    "dfApp_temanbumil = pd.concat([df_id, df_en], axis=0, ignore_index= True)\n",
    "dfApp_temanbumil.shape"
   ]
  },
  {
   "cell_type": "code",
   "execution_count": 51,
   "metadata": {},
   "outputs": [],
   "source": [
    "dfApp_temanbumil = dfApp_temanbumil[['reviewId', 'content', 'score', 'at','replyContent', 'appVersion']]\n",
    "dfApp_temanbumil[\"application\"] = \"Teman Bumil\""
   ]
  },
  {
   "cell_type": "markdown",
   "metadata": {},
   "source": [
    "## Tentang Anak-Hamil & Parenting"
   ]
  },
  {
   "cell_type": "code",
   "execution_count": 52,
   "metadata": {},
   "outputs": [],
   "source": [
    "app_info = app(\n",
    "  'com.criyos.tentanganak',\n",
    "  country = 'id'\n",
    ")"
   ]
  },
  {
   "cell_type": "code",
   "execution_count": 53,
   "metadata": {},
   "outputs": [
    {
     "name": "stdout",
     "output_type": "stream",
     "text": [
      "{\n",
      "    \"title\": \"Tentang Anak-Hamil & Parenting\",\n",
      "    \"description\": \"Come on, maximize your child's growth and development with the most complete parenting application created by pediatricians, psychologists and trusted experts in the field of health and parenting.\\r\\n\\r\\nAbout Children has become an official partner of the Ministry of Health, Ministry of Education and Culture, and BKKBN. All the features in it are designed to accompany Mother's journey from the pregnancy program, pregnancy, to post-pregnancy and the growth and development of your little one. Make About Children a loyal friend on your and your little one's journey.\\r\\n\\r\\nThrough the About Children application, mothers can use these features, you know \\ud83d\\udc47\\r\\n\\r\\n\\ud83e\\uddd2 Check your little one's progress\\r\\nMonitor fetal development from week to week in detail. Mothers can check the birth estimate for your little one here, you know! Mothers can also see their little one's developmental achievements, from motoric development to language development.\\r\\n\\r\\n\\ud83c\\udf1f Grow \\r\\nDo you know? Ensuring your little one's growth is very important, you know. So, you can monitor your child's development here starting from body weight (BB), height (TB), body mass index (BMI) & head circumference.\\r\\n\\r\\nDon't worry, Mom, the data displayed is in the form of a growth graph curve that is easy for Moms & Dads to understand to find out whether their child's growth is optimal \\u2764\\ufe0f\\r\\n\\r\\n\\ud83d\\udcc5 Tracker\\r\\nCome on, monitor the duration of sleep, eating, drinking, breastfeeding, and monitor defecation / urination times, and the duration of the breast pump / breastfeeding for healthy intelligence and optimal growth of your little one.\\r\\n\\r\\n\\ud83d\\udc89 Vaccine\\r\\nAdjust the immunization schedule to the latest age recommendations from IDAI. Monitor your child's vaccine immunization history in an integrated manner. Get complete information & benefits of each vaccine, from babies to teenagers.\\r\\n\\r\\n\\ud83c\\udf72 Recipes\\r\\nRecook healthy recipes for nutritious MPASI, BB Booster & anti-allergy based on age recommendations, number of calories and nutritional needs reviewed by a nutritionist\\r\\n\\r\\n\\ud83d\\udc69\\u200d\\u2695\\ufe0f Screening & Ask Experts\\r\\nDevelopmental & autism screening, as well as free consultations with trusted experts!\\r\\n\\r\\nThere is also a lot of parenting that you can read about children's health, pregnant women, child development, and many others. \\r\\n\\r\\nApart from that, mothers can also enjoy free weekly webinars, connect with other parent communities, and shop for the best parenting products directly from experts. Don't forget, there are exciting daily promos that you can check on the About Children app!\\r\\n\\r\\nAbout Children, Mother's best friends in assisting your little one to grow optimally \\u2764\\ufe0f\",\n",
      "    \"descriptionHTML\": \"Come on, maximize your child&#39;s growth and development with the most complete parenting application created by pediatricians, psychologists and trusted experts in the field of health and parenting.<br><br>About Children has become an official partner of the Ministry of Health, Ministry of Education and Culture, and BKKBN. All the features in it are designed to accompany Mother&#39;s journey from the pregnancy program, pregnancy, to post-pregnancy and the growth and development of your little one. Make About Children a loyal friend on your and your little one&#39;s journey.<br><br>Through the About Children application, mothers can use these features, you know \\ud83d\\udc47<br><br>\\ud83e\\uddd2 Check your little one&#39;s progress<br>Monitor fetal development from week to week in detail. Mothers can check the birth estimate for your little one here, you know! Mothers can also see their little one&#39;s developmental achievements, from motoric development to language development.<br><br>\\ud83c\\udf1f Grow <br>Do you know? Ensuring your little one&#39;s growth is very important, you know. So, you can monitor your child&#39;s development here starting from body weight (BB), height (TB), body mass index (BMI) &amp; head circumference.<br><br>Don&#39;t worry, Mom, the data displayed is in the form of a growth graph curve that is easy for Moms &amp; Dads to understand to find out whether their child&#39;s growth is optimal \\u2764\\ufe0f<br><br>\\ud83d\\udcc5 Tracker<br>Come on, monitor the duration of sleep, eating, drinking, breastfeeding, and monitor defecation / urination times, and the duration of the breast pump / breastfeeding for healthy intelligence and optimal growth of your little one.<br><br>\\ud83d\\udc89 Vaccine<br>Adjust the immunization schedule to the latest age recommendations from IDAI. Monitor your child&#39;s vaccine immunization history in an integrated manner. Get complete information &amp; benefits of each vaccine, from babies to teenagers.<br><br>\\ud83c\\udf72 Recipes<br>Recook healthy recipes for nutritious MPASI, BB Booster &amp; anti-allergy based on age recommendations, number of calories and nutritional needs reviewed by a nutritionist<br><br>\\ud83d\\udc69\\u200d\\u2695\\ufe0f Screening &amp; Ask Experts<br>Developmental &amp; autism screening, as well as free consultations with trusted experts!<br><br>There is also a lot of parenting that you can read about children&#39;s health, pregnant women, child development, and many others. <br><br>Apart from that, mothers can also enjoy free weekly webinars, connect with other parent communities, and shop for the best parenting products directly from experts. Don&#39;t forget, there are exciting daily promos that you can check on the About Children app!<br><br>About Children, Mother&#39;s best friends in assisting your little one to grow optimally \\u2764\\ufe0f\",\n",
      "    \"summary\": \"Parenting applications, starting from promil, pregnancy, to post-pregnancy.\",\n",
      "    \"installs\": \"500,000+\",\n",
      "    \"minInstalls\": 500000,\n",
      "    \"realInstalls\": 744089,\n",
      "    \"score\": 4.9664774,\n",
      "    \"ratings\": 17617,\n",
      "    \"reviews\": 6070,\n",
      "    \"histogram\": [\n",
      "        9,\n",
      "        19,\n",
      "        19,\n",
      "        449,\n",
      "        17116\n",
      "    ],\n",
      "    \"price\": 0,\n",
      "    \"free\": true,\n",
      "    \"currency\": \"IDR\",\n",
      "    \"sale\": false,\n",
      "    \"saleTime\": null,\n",
      "    \"originalPrice\": null,\n",
      "    \"saleText\": null,\n",
      "    \"offersIAP\": false,\n",
      "    \"inAppProductPrice\": null,\n",
      "    \"developer\": \"Tentang Anak\",\n",
      "    \"developerId\": \"7254559593325176277\",\n",
      "    \"developerEmail\": \"cs@tentanganak.id\",\n",
      "    \"developerWebsite\": \"https://tentanganak.id\",\n",
      "    \"developerAddress\": null,\n",
      "    \"privacyPolicy\": \"https://tentanganak.id/kebijakan-privasi\",\n",
      "    \"genre\": \"Parenting\",\n",
      "    \"genreId\": \"PARENTING\",\n",
      "    \"categories\": [\n",
      "        {\n",
      "            \"name\": \"Parenting\",\n",
      "            \"id\": \"PARENTING\"\n",
      "        }\n",
      "    ],\n",
      "    \"icon\": \"https://play-lh.googleusercontent.com/p0POf71GgCNpVVo1_Qg6LZ8Sr8LVJiT9zzvcTSITas3w_ijpDFRt9yQy54U07f_ADQA\",\n",
      "    \"headerImage\": \"https://play-lh.googleusercontent.com/SAGbX1qnJL_SIqNVl8YyAHkPmSxgtehQM-bu3bb1n1ZCT0QRB333QxA49_KLS5-c5Qc\",\n",
      "    \"screenshots\": [\n",
      "        \"https://play-lh.googleusercontent.com/jkwi-uXsgEcCB7NSxmbkldaEFuq64WQDpzqo6VeoSvnF9eIRvzWwkwsRgcPTDjULqrA\",\n",
      "        \"https://play-lh.googleusercontent.com/ZXnzoNMs3knnyOHuvNTPpWJdo5UQNFM3u77ADuRoL54Mt_LSfNyqDnet-x7SlBRMqiQ\",\n",
      "        \"https://play-lh.googleusercontent.com/gA38a4dylKCwZh0DjD1JkxinpPoSkoVYs5pCqXi3hm26012nZRKUrIuwg2gpdx0yoLw\",\n",
      "        \"https://play-lh.googleusercontent.com/vrUn11i_E3uRdmx8-6NAcZCvvGyc6CH4Kjx5w3s3nzWCyucsQW_fQOES8iykNrnzzA\",\n",
      "        \"https://play-lh.googleusercontent.com/L1u9g8jta_gLzTuy_qlptk6brPPS80O0Dnbx2OxOhlklakYb6hAr7NffnFRRB_ZLMaw\",\n",
      "        \"https://play-lh.googleusercontent.com/6SmxnyDhVZiRfi9GG6tMUfd2fTXr48V_XUAX-lvYMHR96o-Kom08TKsYxWwZw6DD7FU\",\n",
      "        \"https://play-lh.googleusercontent.com/M0B8bIES50xazKeu3ymF5aC8Du49SwCCYQAvOSGwyXNMrh0oTC_dRzDvx01XfZcHqw\",\n",
      "        \"https://play-lh.googleusercontent.com/ha58qRr4zeXviQW3RFE8Q-AytUypSuvbv9JQ8MZaQ04amCaRSR8PvXs-cNbnP17Vlig\"\n",
      "    ],\n",
      "    \"video\": \"https://www.youtube.com/embed/uLuxldF_D4A?ps=play&vq=large&rel=0&autohide=1&showinfo=0\",\n",
      "    \"videoImage\": \"https://play-lh.googleusercontent.com/SAGbX1qnJL_SIqNVl8YyAHkPmSxgtehQM-bu3bb1n1ZCT0QRB333QxA49_KLS5-c5Qc\",\n",
      "    \"contentRating\": \"Rated for 3+\",\n",
      "    \"contentRatingDescription\": null,\n",
      "    \"adSupported\": false,\n",
      "    \"containsAds\": false,\n",
      "    \"released\": \"Nov 19, 2021\",\n",
      "    \"lastUpdatedOn\": \"Jan 31, 2025\",\n",
      "    \"updated\": 1738316188,\n",
      "    \"version\": \"3.10.0\",\n",
      "    \"comments\": [],\n",
      "    \"appId\": \"com.criyos.tentanganak\",\n",
      "    \"url\": \"https://play.google.com/store/apps/details?id=com.criyos.tentanganak&hl=en&gl=id\"\n",
      "}\n"
     ]
    }
   ],
   "source": [
    "print(json.dumps(app_info, indent=4))"
   ]
  },
  {
   "cell_type": "code",
   "execution_count": 54,
   "metadata": {},
   "outputs": [],
   "source": [
    "infoApp_tentangAnak = pd.DataFrame([app_info])\n",
    "infoApp_tentangAnak = infoApp_tentangAnak[[\"title\", \"summary\", \"realInstalls\", \"score\", \"ratings\", \"reviews\", \"free\"]]"
   ]
  },
  {
   "cell_type": "markdown",
   "metadata": {},
   "source": [
    "### App reviews"
   ]
  },
  {
   "cell_type": "code",
   "execution_count": 55,
   "metadata": {},
   "outputs": [
    {
     "name": "stdout",
     "output_type": "stream",
     "text": [
      "Total review ID scraped: 200\n",
      "Total review ID scraped: 400\n",
      "Total review ID scraped: 600\n",
      "Total review ID scraped: 800\n",
      "Total review ID scraped: 1000\n",
      "Total review ID scraped: 1200\n",
      "Total review ID scraped: 1400\n",
      "Total review ID scraped: 1600\n",
      "Total review ID scraped: 1800\n",
      "Total review ID scraped: 2000\n",
      "Total review ID scraped: 2200\n",
      "Total review ID scraped: 2400\n",
      "Total review ID scraped: 2600\n",
      "Total review ID scraped: 2800\n",
      "Total review ID scraped: 3000\n",
      "Total review ID scraped: 3200\n",
      "Total review ID scraped: 3400\n",
      "Total review ID scraped: 3600\n",
      "Total review ID scraped: 3800\n",
      "Total review ID scraped: 4000\n",
      "Total review ID scraped: 4200\n",
      "Total review ID scraped: 4400\n",
      "Total review ID scraped: 4534\n"
     ]
    }
   ],
   "source": [
    "total_reviews = 6070 \n",
    "\n",
    "result, continuation_token = reviews(\n",
    "  'com.criyos.tentanganak',\n",
    "  lang = 'id',\n",
    "  country = 'id',\n",
    "  sort = Sort.NEWEST,\n",
    "  count = 200,\n",
    "  filter_score_with = None\n",
    ")\n",
    "print(f\"Total review ID scraped: {len(result)}\")\n",
    "\n",
    "if len(result) >= 200 and continuation_token:\n",
    "  while len(result) < total_reviews:\n",
    "    more_result, continuation_token = reviews(\n",
    "      'com.criyos.tentanganak',\n",
    "      continuation_token = continuation_token\n",
    "    )\n",
    "    \n",
    "    if not more_result:\n",
    "      break\n",
    "    \n",
    "    result.extend(more_result)\n",
    "    print(f\"Total review ID scraped: {len(result)}\")"
   ]
  },
  {
   "cell_type": "code",
   "execution_count": 56,
   "metadata": {},
   "outputs": [],
   "source": [
    "df_id = pd.DataFrame(result)"
   ]
  },
  {
   "cell_type": "code",
   "execution_count": 57,
   "metadata": {},
   "outputs": [
    {
     "name": "stdout",
     "output_type": "stream",
     "text": [
      "Total review EN scraped: 200\n",
      "Total review EN scraped: 400\n",
      "Total review EN scraped: 600\n",
      "Total review EN scraped: 800\n",
      "Total review EN scraped: 1000\n",
      "Total review EN scraped: 1200\n",
      "Total review EN scraped: 1400\n",
      "Total review EN scraped: 1554\n"
     ]
    }
   ],
   "source": [
    "total_reviews = 6070 \n",
    "\n",
    "result, continuation_token = reviews(\n",
    "  'com.criyos.tentanganak',\n",
    "  lang = 'en',\n",
    "  country = 'id',\n",
    "  sort = Sort.NEWEST,\n",
    "  count = 200,\n",
    "  filter_score_with = None\n",
    ")\n",
    "print(f\"Total review EN scraped: {len(result)}\")\n",
    "\n",
    "if len(result) >= 200 and continuation_token:\n",
    "  while len(result) < total_reviews:\n",
    "    more_result, continuation_token = reviews(\n",
    "      'com.criyos.tentanganak',\n",
    "      continuation_token = continuation_token\n",
    "    )\n",
    "    \n",
    "    if not more_result:\n",
    "      break\n",
    "    \n",
    "    result.extend(more_result)\n",
    "    print(f\"Total review EN scraped: {len(result)}\")"
   ]
  },
  {
   "cell_type": "code",
   "execution_count": 58,
   "metadata": {},
   "outputs": [],
   "source": [
    "df_en = pd.DataFrame(result)"
   ]
  },
  {
   "cell_type": "code",
   "execution_count": 59,
   "metadata": {},
   "outputs": [
    {
     "data": {
      "text/plain": [
       "(6088, 11)"
      ]
     },
     "execution_count": 59,
     "metadata": {},
     "output_type": "execute_result"
    }
   ],
   "source": [
    "dfApp_tentangAnak = pd.concat([df_id, df_en], axis=0, ignore_index= True)\n",
    "dfApp_tentangAnak.shape"
   ]
  },
  {
   "cell_type": "code",
   "execution_count": 60,
   "metadata": {},
   "outputs": [],
   "source": [
    "dfApp_tentangAnak = dfApp_tentangAnak[['reviewId', 'content', 'score', 'at','replyContent', 'appVersion']]\n",
    "dfApp_tentangAnak[\"application\"] = \"Teman Bumil\""
   ]
  },
  {
   "cell_type": "markdown",
   "metadata": {},
   "source": [
    "# Merge All Dataset"
   ]
  },
  {
   "cell_type": "markdown",
   "metadata": {},
   "source": [
    "## Dataset Review"
   ]
  },
  {
   "cell_type": "code",
   "execution_count": 61,
   "metadata": {},
   "outputs": [
    {
     "data": {
      "text/plain": [
       "(96281, 7)"
      ]
     },
     "execution_count": 61,
     "metadata": {},
     "output_type": "execute_result"
    }
   ],
   "source": [
    "df = pd.concat([dfApp_sehati, dfApp_diarybunda, dfApp_asianparent, dfApp_hallobumil, dfApp_temanbumil, dfApp_tentangAnak], ignore_index=True)\n",
    "df.shape"
   ]
  },
  {
   "cell_type": "code",
   "execution_count": 62,
   "metadata": {},
   "outputs": [
    {
     "data": {
      "text/html": [
       "<div>\n",
       "<style scoped>\n",
       "    .dataframe tbody tr th:only-of-type {\n",
       "        vertical-align: middle;\n",
       "    }\n",
       "\n",
       "    .dataframe tbody tr th {\n",
       "        vertical-align: top;\n",
       "    }\n",
       "\n",
       "    .dataframe thead th {\n",
       "        text-align: right;\n",
       "    }\n",
       "</style>\n",
       "<table border=\"1\" class=\"dataframe\">\n",
       "  <thead>\n",
       "    <tr style=\"text-align: right;\">\n",
       "      <th></th>\n",
       "      <th>reviewId</th>\n",
       "      <th>content</th>\n",
       "      <th>score</th>\n",
       "      <th>at</th>\n",
       "      <th>replyContent</th>\n",
       "      <th>appVersion</th>\n",
       "      <th>application</th>\n",
       "    </tr>\n",
       "  </thead>\n",
       "  <tbody>\n",
       "    <tr>\n",
       "      <th>0</th>\n",
       "      <td>3c1c4e4e-8fc1-4041-a1ee-58f7b96874fa</td>\n",
       "      <td>UI/UX consultana abi juaraaaaaaaaaaa</td>\n",
       "      <td>5</td>\n",
       "      <td>2024-11-06 13:43:40</td>\n",
       "      <td>None</td>\n",
       "      <td>3.6.2</td>\n",
       "      <td>Sehati Bidan</td>\n",
       "    </tr>\n",
       "    <tr>\n",
       "      <th>1</th>\n",
       "      <td>a3821934-258e-4916-b8cb-cd4a2711ae1d</td>\n",
       "      <td>Mohon maaf saya mau registrasi via wa knp blm ...</td>\n",
       "      <td>2</td>\n",
       "      <td>2024-06-23 16:20:11</td>\n",
       "      <td>None</td>\n",
       "      <td>3.6.2</td>\n",
       "      <td>Sehati Bidan</td>\n",
       "    </tr>\n",
       "    <tr>\n",
       "      <th>2</th>\n",
       "      <td>95c28411-5b84-4e9b-9753-88e0f54d6e0d</td>\n",
       "      <td>TIDAK MEREKOMENDASIKAN APLIKASI YANG SANGAT SA...</td>\n",
       "      <td>1</td>\n",
       "      <td>2023-04-07 07:50:41</td>\n",
       "      <td>None</td>\n",
       "      <td>3.6.2</td>\n",
       "      <td>Sehati Bidan</td>\n",
       "    </tr>\n",
       "  </tbody>\n",
       "</table>\n",
       "</div>"
      ],
      "text/plain": [
       "                               reviewId  \\\n",
       "0  3c1c4e4e-8fc1-4041-a1ee-58f7b96874fa   \n",
       "1  a3821934-258e-4916-b8cb-cd4a2711ae1d   \n",
       "2  95c28411-5b84-4e9b-9753-88e0f54d6e0d   \n",
       "\n",
       "                                             content  score  \\\n",
       "0               UI/UX consultana abi juaraaaaaaaaaaa      5   \n",
       "1  Mohon maaf saya mau registrasi via wa knp blm ...      2   \n",
       "2  TIDAK MEREKOMENDASIKAN APLIKASI YANG SANGAT SA...      1   \n",
       "\n",
       "                   at replyContent appVersion   application  \n",
       "0 2024-11-06 13:43:40         None      3.6.2  Sehati Bidan  \n",
       "1 2024-06-23 16:20:11         None      3.6.2  Sehati Bidan  \n",
       "2 2023-04-07 07:50:41         None      3.6.2  Sehati Bidan  "
      ]
     },
     "execution_count": 62,
     "metadata": {},
     "output_type": "execute_result"
    }
   ],
   "source": [
    "df.head(3)"
   ]
  },
  {
   "cell_type": "markdown",
   "metadata": {},
   "source": [
    "## Separate to After Covid"
   ]
  },
  {
   "cell_type": "code",
   "execution_count": 65,
   "metadata": {},
   "outputs": [
    {
     "data": {
      "text/plain": [
       "(60428, 7)"
      ]
     },
     "execution_count": 65,
     "metadata": {},
     "output_type": "execute_result"
    }
   ],
   "source": [
    "df[\"at\"] = pd.to_datetime(df[\"at\"])\n",
    "df_aft_covid = df[df[\"at\"].dt.year >= 2021]\n",
    "\n",
    "df_aft_covid.shape"
   ]
  },
  {
   "cell_type": "code",
   "execution_count": 77,
   "metadata": {},
   "outputs": [],
   "source": [
    "df.to_csv(\"data/all_greview_dataset-100325.csv\", index=False)"
   ]
  },
  {
   "cell_type": "code",
   "execution_count": 66,
   "metadata": {},
   "outputs": [],
   "source": [
    "df_aft_covid.to_csv(\"data/aftercovid_greview_dataset-100325.csv\", index=False)"
   ]
  },
  {
   "cell_type": "markdown",
   "metadata": {},
   "source": [
    "## Dataset Info App"
   ]
  },
  {
   "cell_type": "code",
   "execution_count": 79,
   "metadata": {},
   "outputs": [
    {
     "data": {
      "text/html": [
       "<div>\n",
       "<style scoped>\n",
       "    .dataframe tbody tr th:only-of-type {\n",
       "        vertical-align: middle;\n",
       "    }\n",
       "\n",
       "    .dataframe tbody tr th {\n",
       "        vertical-align: top;\n",
       "    }\n",
       "\n",
       "    .dataframe thead th {\n",
       "        text-align: right;\n",
       "    }\n",
       "</style>\n",
       "<table border=\"1\" class=\"dataframe\">\n",
       "  <thead>\n",
       "    <tr style=\"text-align: right;\">\n",
       "      <th></th>\n",
       "      <th>title</th>\n",
       "      <th>summary</th>\n",
       "      <th>realInstalls</th>\n",
       "      <th>score</th>\n",
       "      <th>ratings</th>\n",
       "      <th>reviews</th>\n",
       "      <th>free</th>\n",
       "    </tr>\n",
       "  </thead>\n",
       "  <tbody>\n",
       "    <tr>\n",
       "      <th>0</th>\n",
       "      <td>Sehati Bidan</td>\n",
       "      <td>Aplikasi medis yang dipakai Bidan dalam pemeri...</td>\n",
       "      <td>18076</td>\n",
       "      <td>4.100000</td>\n",
       "      <td>145</td>\n",
       "      <td>69</td>\n",
       "      <td>True</td>\n",
       "    </tr>\n",
       "    <tr>\n",
       "      <th>1</th>\n",
       "      <td>Diary Bunda Aplikasi Kehamilan</td>\n",
       "      <td>Aplikasi kehamilan dan parenting terpercaya ya...</td>\n",
       "      <td>1197474</td>\n",
       "      <td>4.764905</td>\n",
       "      <td>14805</td>\n",
       "      <td>1864</td>\n",
       "      <td>True</td>\n",
       "    </tr>\n",
       "    <tr>\n",
       "      <th>2</th>\n",
       "      <td>Asianparent: Kehamilan &amp; Bayi</td>\n",
       "      <td>Pantau Kehamilan, Bayi &amp; Anak, dan Gabung di K...</td>\n",
       "      <td>10058666</td>\n",
       "      <td>4.847994</td>\n",
       "      <td>339721</td>\n",
       "      <td>56366</td>\n",
       "      <td>True</td>\n",
       "    </tr>\n",
       "    <tr>\n",
       "      <th>3</th>\n",
       "      <td>Hallobumil</td>\n",
       "      <td>Hallobumil - The First Interactive Application...</td>\n",
       "      <td>3329763</td>\n",
       "      <td>4.018321</td>\n",
       "      <td>19631</td>\n",
       "      <td>6683</td>\n",
       "      <td>True</td>\n",
       "    </tr>\n",
       "    <tr>\n",
       "      <th>4</th>\n",
       "      <td>Teman Bumil - Kehamilan &amp; Anak</td>\n",
       "      <td>The largest application and community for moth...</td>\n",
       "      <td>2839692</td>\n",
       "      <td>4.913638</td>\n",
       "      <td>29668</td>\n",
       "      <td>11492</td>\n",
       "      <td>True</td>\n",
       "    </tr>\n",
       "  </tbody>\n",
       "</table>\n",
       "</div>"
      ],
      "text/plain": [
       "                            title  \\\n",
       "0                    Sehati Bidan   \n",
       "1  Diary Bunda Aplikasi Kehamilan   \n",
       "2   Asianparent: Kehamilan & Bayi   \n",
       "3                      Hallobumil   \n",
       "4  Teman Bumil - Kehamilan & Anak   \n",
       "\n",
       "                                             summary  realInstalls     score  \\\n",
       "0  Aplikasi medis yang dipakai Bidan dalam pemeri...         18076  4.100000   \n",
       "1  Aplikasi kehamilan dan parenting terpercaya ya...       1197474  4.764905   \n",
       "2  Pantau Kehamilan, Bayi & Anak, dan Gabung di K...      10058666  4.847994   \n",
       "3  Hallobumil - The First Interactive Application...       3329763  4.018321   \n",
       "4  The largest application and community for moth...       2839692  4.913638   \n",
       "\n",
       "   ratings  reviews  free  \n",
       "0      145       69  True  \n",
       "1    14805     1864  True  \n",
       "2   339721    56366  True  \n",
       "3    19631     6683  True  \n",
       "4    29668    11492  True  "
      ]
     },
     "execution_count": 79,
     "metadata": {},
     "output_type": "execute_result"
    }
   ],
   "source": [
    "df_info = pd.concat([infoApp_sehati, infoApp_diarybunda, infoApp_asianparent, infoApp_hallobumil, infoApp_temanbumil, infoApp_tentangAnak], ignore_index=True)\n",
    "df_info.head()"
   ]
  },
  {
   "cell_type": "code",
   "execution_count": 80,
   "metadata": {},
   "outputs": [
    {
     "data": {
      "text/plain": [
       "82544"
      ]
     },
     "execution_count": 80,
     "metadata": {},
     "output_type": "execute_result"
    }
   ],
   "source": [
    "df_info['reviews'].sum()"
   ]
  },
  {
   "cell_type": "code",
   "execution_count": 83,
   "metadata": {},
   "outputs": [],
   "source": [
    "df_sampled = df.sample(n=10000, random_state=42)\n",
    "df_sampled.to_csv(\"data/extras/greview-app-metadata.csv\")"
   ]
  }
 ],
 "metadata": {
  "kernelspec": {
   "display_name": "venv",
   "language": "python",
   "name": "python3"
  },
  "language_info": {
   "codemirror_mode": {
    "name": "ipython",
    "version": 3
   },
   "file_extension": ".py",
   "mimetype": "text/x-python",
   "name": "python",
   "nbconvert_exporter": "python",
   "pygments_lexer": "ipython3",
   "version": "3.10.11"
  }
 },
 "nbformat": 4,
 "nbformat_minor": 2
}
