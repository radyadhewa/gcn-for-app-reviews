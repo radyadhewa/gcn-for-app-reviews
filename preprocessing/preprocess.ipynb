{
 "cells": [
  {
   "cell_type": "code",
   "execution_count": 15,
   "metadata": {},
   "outputs": [],
   "source": [
    "# general\n",
    "import pandas as pd\n",
    "import numpy as np\n",
    "import matplotlib.pyplot as plt\n",
    "import json\n",
    "\n",
    "# preprocessing\n",
    "import re\n"
   ]
  },
  {
   "cell_type": "code",
   "execution_count": 4,
   "metadata": {},
   "outputs": [
    {
     "data": {
      "text/html": [
       "<div>\n",
       "<style scoped>\n",
       "    .dataframe tbody tr th:only-of-type {\n",
       "        vertical-align: middle;\n",
       "    }\n",
       "\n",
       "    .dataframe tbody tr th {\n",
       "        vertical-align: top;\n",
       "    }\n",
       "\n",
       "    .dataframe thead th {\n",
       "        text-align: right;\n",
       "    }\n",
       "</style>\n",
       "<table border=\"1\" class=\"dataframe\">\n",
       "  <thead>\n",
       "    <tr style=\"text-align: right;\">\n",
       "      <th></th>\n",
       "      <th>Unnamed: 0</th>\n",
       "      <th>reviewId</th>\n",
       "      <th>content</th>\n",
       "      <th>score</th>\n",
       "      <th>at</th>\n",
       "      <th>replyContent</th>\n",
       "      <th>appVersion</th>\n",
       "      <th>application</th>\n",
       "    </tr>\n",
       "  </thead>\n",
       "  <tbody>\n",
       "    <tr>\n",
       "      <th>0</th>\n",
       "      <td>83368</td>\n",
       "      <td>85d3e765-c7e8-4d15-be91-90b124893c85</td>\n",
       "      <td>Menyenangkan🥰</td>\n",
       "      <td>5</td>\n",
       "      <td>2022-06-30 16:01:21</td>\n",
       "      <td>Hi Mums, Terima kasih telah menggunakan Teman ...</td>\n",
       "      <td>2.9.2</td>\n",
       "      <td>Teman Bumil</td>\n",
       "    </tr>\n",
       "    <tr>\n",
       "      <th>1</th>\n",
       "      <td>43673</td>\n",
       "      <td>edabddf1-7ed6-42b2-830e-32160ccf3bff</td>\n",
       "      <td>Syukaa</td>\n",
       "      <td>5</td>\n",
       "      <td>2020-06-07 21:30:30</td>\n",
       "      <td>Hai, Parent! Terima kasih atas review positifn...</td>\n",
       "      <td>2.6.17</td>\n",
       "      <td>Asian Parent</td>\n",
       "    </tr>\n",
       "    <tr>\n",
       "      <th>2</th>\n",
       "      <td>72119</td>\n",
       "      <td>8aab4534-f359-4b19-b4da-a21ee6bc4a4b</td>\n",
       "      <td>Mentok mulu di PIN stiap mau log in ga bisa ms...</td>\n",
       "      <td>1</td>\n",
       "      <td>2024-09-10 10:48:01</td>\n",
       "      <td>Hallo Mama Rika Komalasari, kami sangat menger...</td>\n",
       "      <td>2.5.5</td>\n",
       "      <td>Hallobumil</td>\n",
       "    </tr>\n",
       "    <tr>\n",
       "      <th>3</th>\n",
       "      <td>80274</td>\n",
       "      <td>10f8f8a7-a82d-4586-8d4e-15b3a6c23a67</td>\n",
       "      <td>Aplikasi sangat membantu saya yang lagi hamil ...</td>\n",
       "      <td>5</td>\n",
       "      <td>2023-08-28 21:21:06</td>\n",
       "      <td>Hi Mums, Terima kasih telah menggunakan Teman ...</td>\n",
       "      <td>2.19.8</td>\n",
       "      <td>Teman Bumil</td>\n",
       "    </tr>\n",
       "    <tr>\n",
       "      <th>4</th>\n",
       "      <td>34588</td>\n",
       "      <td>14a13395-262f-494d-bca6-4173508c4511</td>\n",
       "      <td>Solusi ibu hamil</td>\n",
       "      <td>5</td>\n",
       "      <td>2021-02-26 17:38:04</td>\n",
       "      <td>Hai, Parent! Terima kasih atas review positifn...</td>\n",
       "      <td>2.8.2</td>\n",
       "      <td>Asian Parent</td>\n",
       "    </tr>\n",
       "  </tbody>\n",
       "</table>\n",
       "</div>"
      ],
      "text/plain": [
       "   Unnamed: 0                              reviewId  \\\n",
       "0       83368  85d3e765-c7e8-4d15-be91-90b124893c85   \n",
       "1       43673  edabddf1-7ed6-42b2-830e-32160ccf3bff   \n",
       "2       72119  8aab4534-f359-4b19-b4da-a21ee6bc4a4b   \n",
       "3       80274  10f8f8a7-a82d-4586-8d4e-15b3a6c23a67   \n",
       "4       34588  14a13395-262f-494d-bca6-4173508c4511   \n",
       "\n",
       "                                             content  score  \\\n",
       "0                                      Menyenangkan🥰      5   \n",
       "1                                             Syukaa      5   \n",
       "2  Mentok mulu di PIN stiap mau log in ga bisa ms...      1   \n",
       "3  Aplikasi sangat membantu saya yang lagi hamil ...      5   \n",
       "4                                   Solusi ibu hamil      5   \n",
       "\n",
       "                    at                                       replyContent  \\\n",
       "0  2022-06-30 16:01:21  Hi Mums, Terima kasih telah menggunakan Teman ...   \n",
       "1  2020-06-07 21:30:30  Hai, Parent! Terima kasih atas review positifn...   \n",
       "2  2024-09-10 10:48:01  Hallo Mama Rika Komalasari, kami sangat menger...   \n",
       "3  2023-08-28 21:21:06  Hi Mums, Terima kasih telah menggunakan Teman ...   \n",
       "4  2021-02-26 17:38:04  Hai, Parent! Terima kasih atas review positifn...   \n",
       "\n",
       "  appVersion   application  \n",
       "0      2.9.2   Teman Bumil  \n",
       "1     2.6.17  Asian Parent  \n",
       "2      2.5.5    Hallobumil  \n",
       "3     2.19.8   Teman Bumil  \n",
       "4      2.8.2  Asian Parent  "
      ]
     },
     "execution_count": 4,
     "metadata": {},
     "output_type": "execute_result"
    }
   ],
   "source": [
    "df = pd.read_csv('/Users/dhewaradya/Documents/code/gcn-for-app-reviews/scraping/sample1k-review_dataset-020225.csv')\n",
    "df.head()"
   ]
  },
  {
   "cell_type": "markdown",
   "metadata": {},
   "source": [
    "## Filter after 2021"
   ]
  },
  {
   "cell_type": "code",
   "execution_count": 5,
   "metadata": {},
   "outputs": [],
   "source": [
    "df[\"at\"] = pd.to_datetime(df[\"at\"])\n",
    "df = df[df[\"at\"].dt.year >= 2021]"
   ]
  },
  {
   "cell_type": "code",
   "execution_count": 8,
   "metadata": {},
   "outputs": [
    {
     "data": {
      "text/plain": [
       "Unnamed: 0      6066\n",
       "reviewId        6066\n",
       "content         6066\n",
       "score           6066\n",
       "at              6066\n",
       "replyContent    5725\n",
       "appVersion      5320\n",
       "application     6066\n",
       "dtype: int64"
      ]
     },
     "execution_count": 8,
     "metadata": {},
     "output_type": "execute_result"
    }
   ],
   "source": [
    "df.count()"
   ]
  },
  {
   "cell_type": "code",
   "execution_count": 9,
   "metadata": {},
   "outputs": [],
   "source": [
    "df = df[['content']]"
   ]
  },
  {
   "cell_type": "markdown",
   "metadata": {},
   "source": [
    "# Preprocessing"
   ]
  },
  {
   "cell_type": "markdown",
   "metadata": {},
   "source": [
    "## Drop Duplicates"
   ]
  },
  {
   "cell_type": "code",
   "execution_count": 11,
   "metadata": {},
   "outputs": [
    {
     "data": {
      "text/plain": [
       "content    4816\n",
       "dtype: int64"
      ]
     },
     "execution_count": 11,
     "metadata": {},
     "output_type": "execute_result"
    }
   ],
   "source": [
    "df = df.drop_duplicates()\n",
    "df.count()"
   ]
  },
  {
   "cell_type": "markdown",
   "metadata": {},
   "source": [
    "## Delete Null"
   ]
  },
  {
   "cell_type": "code",
   "execution_count": 13,
   "metadata": {},
   "outputs": [
    {
     "data": {
      "text/plain": [
       "content    4816\n",
       "dtype: int64"
      ]
     },
     "execution_count": 13,
     "metadata": {},
     "output_type": "execute_result"
    }
   ],
   "source": [
    "df = df[df != \"0\"]\n",
    "df.count()"
   ]
  },
  {
   "cell_type": "code",
   "execution_count": 23,
   "metadata": {},
   "outputs": [],
   "source": [
    "df = df['content'].astype(str)"
   ]
  },
  {
   "cell_type": "code",
   "execution_count": 24,
   "metadata": {},
   "outputs": [
    {
     "name": "stdout",
     "output_type": "stream",
     "text": [
      "<class 'pandas.core.series.Series'>\n",
      "Index: 4816 entries, 0 to 9999\n",
      "Series name: content\n",
      "Non-Null Count  Dtype \n",
      "--------------  ----- \n",
      "4816 non-null   object\n",
      "dtypes: object(1)\n",
      "memory usage: 75.2+ KB\n"
     ]
    }
   ],
   "source": [
    "df.info()"
   ]
  },
  {
   "cell_type": "markdown",
   "metadata": {},
   "source": [
    "## Case Folding"
   ]
  },
  {
   "cell_type": "code",
   "execution_count": 25,
   "metadata": {},
   "outputs": [],
   "source": [
    "# function to process and clean text, remove unecessary text\n",
    "\n",
    "REPLACE_HTML_RE = re.compile('https?://\\s+|www\\.\\s+')\n",
    "REPLACE_BY_SPACE_RE = re.compile('[/(){}\\[\\]\\|@,;]')\n",
    "BAD_SYMBOLS_RE = re.compile('[^0-9a-z #+_]')\n",
    "\n",
    "def clean_text(words):\n",
    "\n",
    "    words = words.lower() # lowercase text\n",
    "    words = REPLACE_BY_SPACE_RE.sub(' ', words) # replace REPLACE_BY_SPACE_RE symbols by space in text\n",
    "    words = BAD_SYMBOLS_RE.sub('', words) # delete symbols which are in BAD_SYMBOLS_RE from text\n",
    "    words = REPLACE_HTML_RE.sub('', words) # delete html address\n",
    "    return words"
   ]
  },
  {
   "cell_type": "code",
   "execution_count": 26,
   "metadata": {},
   "outputs": [],
   "source": [
    "dfp = df.apply(clean_text)"
   ]
  },
  {
   "cell_type": "code",
   "execution_count": 28,
   "metadata": {},
   "outputs": [],
   "source": [
    "# function to remove emojis\n",
    "\n",
    "def remove_emoji(words):\n",
    "    emoji_pattern = re.compile(\"[\"\n",
    "      u\"\\U0001F600-\\U0001F64F\"  # emoticons\n",
    "      u\"\\U0001F300-\\U0001F5FF\"  # symbols & pictographs\n",
    "      u\"\\U0001F680-\\U0001F6FF\"  # transport & map symbols\n",
    "      u\"\\U0001F1E0-\\U0001F1FF\"  # flags (iOS)\n",
    "      u\"\\U00002702-\\U000027B0\"\n",
    "      u\"\\U000024C2-\\U0001F251\"\n",
    "      \"]+\", flags=re.UNICODE)\n",
    "    return emoji_pattern.sub(r'', words)"
   ]
  },
  {
   "cell_type": "code",
   "execution_count": 29,
   "metadata": {},
   "outputs": [],
   "source": [
    "dfp = dfp.apply(remove_emoji)"
   ]
  },
  {
   "cell_type": "code",
   "execution_count": 30,
   "metadata": {},
   "outputs": [
    {
     "data": {
      "text/plain": [
       "0                                         menyenangkan\n",
       "2    mentok mulu di pin stiap mau log in ga bisa ms...\n",
       "3    aplikasi sangat membantu saya yang lagi hamil ...\n",
       "4                                     solusi ibu hamil\n",
       "5    aplikasi parenting terlengkap dan terbaik di i...\n",
       "Name: content, dtype: object"
      ]
     },
     "execution_count": 30,
     "metadata": {},
     "output_type": "execute_result"
    }
   ],
   "source": [
    "dfp.head()"
   ]
  },
  {
   "cell_type": "markdown",
   "metadata": {},
   "source": [
    "## Normalization"
   ]
  },
  {
   "cell_type": "markdown",
   "metadata": {},
   "source": [
    "### Fix slang words"
   ]
  },
  {
   "cell_type": "code",
   "execution_count": 32,
   "metadata": {},
   "outputs": [],
   "source": [
    "alay_dict = pd.read_csv('new_kamusalay.csv', names=['original', 'replacement'], encoding='latin-1')\n",
    "\n",
    "alay_dict_map = dict(zip(alay_dict['original'], alay_dict['replacement']))\n",
    "\n",
    "def normalize_alay(text):\n",
    "    return ' '.join([alay_dict_map[word] if word in alay_dict_map else word for word in text.split(' ')])"
   ]
  },
  {
   "cell_type": "code",
   "execution_count": 33,
   "metadata": {},
   "outputs": [
    {
     "data": {
      "text/plain": [
       "0                                         menyenangkan\n",
       "2    mentok mulu di pin setiap mau log in tidak bis...\n",
       "3    aplikasi sangat membantu saya yang lagi hamil ...\n",
       "4                                     solusi ibu hamil\n",
       "5    aplikasi parenting terlengkap dan terbaik di i...\n",
       "Name: content, dtype: object"
      ]
     },
     "execution_count": 33,
     "metadata": {},
     "output_type": "execute_result"
    }
   ],
   "source": [
    "dfp = dfp.apply(normalize_alay)\n",
    "dfp.head()"
   ]
  }
 ],
 "metadata": {
  "kernelspec": {
   "display_name": "venv",
   "language": "python",
   "name": "python3"
  },
  "language_info": {
   "codemirror_mode": {
    "name": "ipython",
    "version": 3
   },
   "file_extension": ".py",
   "mimetype": "text/x-python",
   "name": "python",
   "nbconvert_exporter": "python",
   "pygments_lexer": "ipython3",
   "version": "3.10.11"
  }
 },
 "nbformat": 4,
 "nbformat_minor": 2
}
